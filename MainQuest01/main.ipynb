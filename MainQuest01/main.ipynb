{
 "cells": [
  {
   "cell_type": "markdown",
   "metadata": {},
   "source": [
    "# MAIN QUSET 01 폐렴아 기다려라!"
   ]
  },
  {
   "cell_type": "markdown",
   "metadata": {},
   "source": [
    "## 개요\n",
    "\n",
    "- **의료영상을 처리하여 폐암을 구분하는 CNN 모델을 만든다.**  \n",
    "  모델 학습이 안정적으로 수행되는 것을 시각화를 통해 확인해본다.\n",
    "\n",
    "- **데이터 전처리, 모델구성 등의 과정의 다양한 실험의 체계적으로 수행:**  \n",
    "  regularization, augmentation 등의 기법의 사용 여부에 따른 모델 성능의 차이와 ablation study를 체계적으로 수행한다.\n",
    "\n",
    "- **ResNet 모델링을 구현하였다:**  \n",
    "  ResNet의 Residual block을 구현한다.\n"
   ]
  },
  {
   "cell_type": "markdown",
   "metadata": {},
   "source": [
    "## 목차\n",
    "### 1. 개요\n",
    "- 연구의 배경 및 필요성\n",
    "- 연구 목표\n",
    "### 2. 데이터 전처리\n",
    "### 3. 결과\n",
    "- 모델 평가 및 결과 분석\n",
    "- 결과 시각화\n",
    "### 4. 토론\n",
    "- 결과의 해석\n",
    "- 연구의 한계점 및 개선사항\n",
    "### 5. 결론\n",
    "- 연구의 요약\n",
    "- 향후 연구 방향\n",
    "### 참고문헌\n",
    "- 연구에 사용된 참고문헌 목록\n",
    "\n"
   ]
  },
  {
   "cell_type": "markdown",
   "metadata": {},
   "source": [
    "| 항목명    | 상세내용 |\n",
    "|-----------|----------------------------------|\n",
    "| 의료영상을 처리하는 CNN 기반 딥러닝 모델이 잘 구현 | 모델 학습이 안정적으로 수행되는 것을 시각화를 통해 확인하였다. |\n",
    "| 데이터 전처리, 모델구성 등의 과정의 다양한 실험의 체계적으로 수행 | regularization, augmentation 등의 기법의 사용 여부에 따른 모델 성능 측정이 ablation study 형태로 체계적으로 수행되었다. |\n",
    "| ResNet 모델링을 구현  | Resnet 의 Residual block을 구현하고 학습의 경우 1에폭만 진행하여도 인정 |\n"
   ]
  },
  {
   "cell_type": "code",
   "execution_count": null,
   "metadata": {},
   "outputs": [],
   "source": []
  },
  {
   "cell_type": "code",
   "execution_count": 1,
   "metadata": {},
   "outputs": [
    {
     "name": "stderr",
     "output_type": "stream",
     "text": [
      "2023-12-01 09:47:39.833188: I tensorflow/core/util/port.cc:113] oneDNN custom operations are on. You may see slightly different numerical results due to floating-point round-off errors from different computation orders. To turn them off, set the environment variable `TF_ENABLE_ONEDNN_OPTS=0`.\n",
      "2023-12-01 09:47:39.853641: E external/local_xla/xla/stream_executor/cuda/cuda_dnn.cc:9261] Unable to register cuDNN factory: Attempting to register factory for plugin cuDNN when one has already been registered\n",
      "2023-12-01 09:47:39.853658: E external/local_xla/xla/stream_executor/cuda/cuda_fft.cc:607] Unable to register cuFFT factory: Attempting to register factory for plugin cuFFT when one has already been registered\n",
      "2023-12-01 09:47:39.854231: E external/local_xla/xla/stream_executor/cuda/cuda_blas.cc:1515] Unable to register cuBLAS factory: Attempting to register factory for plugin cuBLAS when one has already been registered\n",
      "2023-12-01 09:47:39.858378: I tensorflow/core/platform/cpu_feature_guard.cc:182] This TensorFlow binary is optimized to use available CPU instructions in performance-critical operations.\n",
      "To enable the following instructions: AVX2 AVX_VNNI FMA, in other operations, rebuild TensorFlow with the appropriate compiler flags.\n"
     ]
    }
   ],
   "source": [
    "import tensorflow as tf"
   ]
  },
  {
   "cell_type": "code",
   "execution_count": null,
   "metadata": {},
   "outputs": [],
   "source": []
  }
 ],
 "metadata": {
  "kernelspec": {
   "display_name": "Python 3",
   "language": "python",
   "name": "python3"
  },
  "language_info": {
   "codemirror_mode": {
    "name": "ipython",
    "version": 3
   },
   "file_extension": ".py",
   "mimetype": "text/x-python",
   "name": "python",
   "nbconvert_exporter": "python",
   "pygments_lexer": "ipython3",
   "version": "3.11.0rc1"
  }
 },
 "nbformat": 4,
 "nbformat_minor": 2
}
