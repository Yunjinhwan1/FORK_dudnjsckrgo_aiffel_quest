{
 "cells": [
  {
   "cell_type": "code",
   "execution_count": 1,
   "metadata": {},
   "outputs": [
    {
     "name": "stderr",
     "output_type": "stream",
     "text": [
      "2023-12-05 16:39:04.098663: I tensorflow/core/util/port.cc:113] oneDNN custom operations are on. You may see slightly different numerical results due to floating-point round-off errors from different computation orders. To turn them off, set the environment variable `TF_ENABLE_ONEDNN_OPTS=0`.\n",
      "2023-12-05 16:39:04.203404: E external/local_xla/xla/stream_executor/cuda/cuda_dnn.cc:9261] Unable to register cuDNN factory: Attempting to register factory for plugin cuDNN when one has already been registered\n",
      "2023-12-05 16:39:04.203442: E external/local_xla/xla/stream_executor/cuda/cuda_fft.cc:607] Unable to register cuFFT factory: Attempting to register factory for plugin cuFFT when one has already been registered\n",
      "2023-12-05 16:39:04.218526: E external/local_xla/xla/stream_executor/cuda/cuda_blas.cc:1515] Unable to register cuBLAS factory: Attempting to register factory for plugin cuBLAS when one has already been registered\n",
      "2023-12-05 16:39:04.258160: I tensorflow/core/platform/cpu_feature_guard.cc:182] This TensorFlow binary is optimized to use available CPU instructions in performance-critical operations.\n",
      "To enable the following instructions: AVX2 AVX_VNNI FMA, in other operations, rebuild TensorFlow with the appropriate compiler flags.\n"
     ]
    }
   ],
   "source": [
    "from tensorflow.keras import models, layers\n",
    "import matplotlib.pyplot as plt"
   ]
  },
  {
   "cell_type": "code",
   "execution_count": 2,
   "metadata": {},
   "outputs": [
    {
     "name": "stdout",
     "output_type": "stream",
     "text": [
      "Downloading data from https://storage.googleapis.com/tensorflow/tf-keras-datasets/boston_housing.npz\n",
      "57026/57026 [==============================] - 0s 0us/step\n",
      "404\n",
      "102\n"
     ]
    }
   ],
   "source": [
    "# keras.datasets 안에 boston_housing 데이터셋을 로드합니다.\n",
    "from keras.datasets import boston_housing\n",
    "\n",
    "(train_data, train_labels), (test_data, test_labels) = boston_housing.load_data()\n",
    "\n",
    "# 데이터셋의 크기를 확인합니다.\n",
    "print(len(train_data))\n",
    "print(len(test_data))"
   ]
  },
  {
   "cell_type": "code",
   "execution_count": 3,
   "metadata": {},
   "outputs": [],
   "source": [
    "# 문제 1-1: 데이터셋의 전처리를 위해 표준화 작업을 수행합니다.\n",
    "# 먼저 입력 데이터의 각 특성의 평균을 뺍니다.\n",
    "# [[YOUR CODE]]\n",
    "# 평균을 뺀 입력 데이터에서 표준편차를 나눕니다.\n",
    "# 데이터 특성의 중앙이 0에 가깝게 만들고, 표준편차가 1이 되게 만듭니다.\n",
    "# [[YOUR CODE]]\n",
    "\n",
    "# 테스트 데이터셋도 마찬가지로 평균을 빼고, 표준편차로 나눕니다.\n",
    "# [[YOUR CODE]]\n",
    "\n",
    "\n",
    "mean = train_data.mean(axis=0)\n",
    "# 훈련 데이터셋의 각 특성별 표준편차 계산\n",
    "std = train_data.std(axis=0)\n",
    "\n",
    "# 훈련 데이터 표준화\n",
    "train_data -= mean\n",
    "train_data /= std\n",
    "\n",
    "# 테스트 데이터 표준화\n",
    "# 주의: 테스트 데이터를 표준화할 때는 훈련 데이터에서 계산된 평균과 표준편차를 사용해야 합니다.\n",
    "test_data -= mean\n",
    "test_data /= std"
   ]
  },
  {
   "cell_type": "code",
   "execution_count": 4,
   "metadata": {},
   "outputs": [
    {
     "name": "stderr",
     "output_type": "stream",
     "text": [
      "2023-12-05 16:39:16.141055: I external/local_xla/xla/stream_executor/cuda/cuda_executor.cc:887] could not open file to read NUMA node: /sys/bus/pci/devices/0000:01:00.0/numa_node\n",
      "Your kernel may have been built without NUMA support.\n",
      "2023-12-05 16:39:16.169758: I external/local_xla/xla/stream_executor/cuda/cuda_executor.cc:887] could not open file to read NUMA node: /sys/bus/pci/devices/0000:01:00.0/numa_node\n",
      "Your kernel may have been built without NUMA support.\n",
      "2023-12-05 16:39:16.169788: I external/local_xla/xla/stream_executor/cuda/cuda_executor.cc:887] could not open file to read NUMA node: /sys/bus/pci/devices/0000:01:00.0/numa_node\n",
      "Your kernel may have been built without NUMA support.\n",
      "2023-12-05 16:39:16.173637: I external/local_xla/xla/stream_executor/cuda/cuda_executor.cc:887] could not open file to read NUMA node: /sys/bus/pci/devices/0000:01:00.0/numa_node\n",
      "Your kernel may have been built without NUMA support.\n",
      "2023-12-05 16:39:16.173663: I external/local_xla/xla/stream_executor/cuda/cuda_executor.cc:887] could not open file to read NUMA node: /sys/bus/pci/devices/0000:01:00.0/numa_node\n",
      "Your kernel may have been built without NUMA support.\n",
      "2023-12-05 16:39:16.173672: I external/local_xla/xla/stream_executor/cuda/cuda_executor.cc:887] could not open file to read NUMA node: /sys/bus/pci/devices/0000:01:00.0/numa_node\n",
      "Your kernel may have been built without NUMA support.\n",
      "2023-12-05 16:39:16.502155: I external/local_xla/xla/stream_executor/cuda/cuda_executor.cc:887] could not open file to read NUMA node: /sys/bus/pci/devices/0000:01:00.0/numa_node\n",
      "Your kernel may have been built without NUMA support.\n",
      "2023-12-05 16:39:16.502229: I external/local_xla/xla/stream_executor/cuda/cuda_executor.cc:887] could not open file to read NUMA node: /sys/bus/pci/devices/0000:01:00.0/numa_node\n",
      "Your kernel may have been built without NUMA support.\n",
      "2023-12-05 16:39:16.502237: I tensorflow/core/common_runtime/gpu/gpu_device.cc:2022] Could not identify NUMA node of platform GPU id 0, defaulting to 0.  Your kernel may not have been built with NUMA support.\n",
      "2023-12-05 16:39:16.502267: I external/local_xla/xla/stream_executor/cuda/cuda_executor.cc:887] could not open file to read NUMA node: /sys/bus/pci/devices/0000:01:00.0/numa_node\n",
      "Your kernel may have been built without NUMA support.\n",
      "2023-12-05 16:39:16.502314: I tensorflow/core/common_runtime/gpu/gpu_device.cc:1929] Created device /job:localhost/replica:0/task:0/device:GPU:0 with 5606 MB memory:  -> device: 0, name: NVIDIA GeForce RTX 3060 Ti, pci bus id: 0000:01:00.0, compute capability: 8.6\n"
     ]
    },
    {
     "name": "stdout",
     "output_type": "stream",
     "text": [
      "Model: \"sequential\"\n",
      "_________________________________________________________________\n",
      " Layer (type)                Output Shape              Param #   \n",
      "=================================================================\n",
      " dense (Dense)               (None, 64)                896       \n",
      "                                                                 \n",
      " dense_1 (Dense)             (None, 64)                4160      \n",
      "                                                                 \n",
      " dense_2 (Dense)             (None, 1)                 65        \n",
      "                                                                 \n",
      "=================================================================\n",
      "Total params: 5121 (20.00 KB)\n",
      "Trainable params: 5121 (20.00 KB)\n",
      "Non-trainable params: 0 (0.00 Byte)\n",
      "_________________________________________________________________\n"
     ]
    }
   ],
   "source": [
    "# 문제 1-2: 주택 가격 예측을 위한 딥러닝 모델 구성 및 컴파일합니다.\n",
    "# input_shape은 (train_data.shape[1], )으로 구성합니다.\n",
    "# 회귀(예측)을 위한 모델이므로 loss를 mse, metrics를 mae로 사용합니다.\n",
    "# [[YOUR CODE]]\n",
    "from keras import models , layers \n",
    "model =models.Sequential()\n",
    "model.add(layers.InputLayer(input_shape=(train_data.shape[1],)))\n",
    "model.add(layers.Dense(64, activation =\"relu\"))\n",
    "model.add(layers.Dense(64, activation =\"relu\"))\n",
    "model.add(layers.Dense(1))\n",
    "model.compile(optimizer=\"adam\", loss =\"mse\", metrics =[\"mae\"])\n",
    "model.summary()\n"
   ]
  },
  {
   "cell_type": "code",
   "execution_count": 5,
   "metadata": {},
   "outputs": [
    {
     "name": "stdout",
     "output_type": "stream",
     "text": [
      "Epoch 1/100\n"
     ]
    },
    {
     "name": "stderr",
     "output_type": "stream",
     "text": [
      "2023-12-05 16:39:22.800413: I external/local_xla/xla/service/service.cc:168] XLA service 0x8c207b0 initialized for platform CUDA (this does not guarantee that XLA will be used). Devices:\n",
      "2023-12-05 16:39:22.800437: I external/local_xla/xla/service/service.cc:176]   StreamExecutor device (0): NVIDIA GeForce RTX 3060 Ti, Compute Capability 8.6\n",
      "2023-12-05 16:39:22.812753: I tensorflow/compiler/mlir/tensorflow/utils/dump_mlir_util.cc:269] disabling MLIR crash reproducer, set env var `MLIR_CRASH_REPRODUCER_DIRECTORY` to enable.\n",
      "2023-12-05 16:39:22.837883: I external/local_xla/xla/stream_executor/cuda/cuda_dnn.cc:454] Loaded cuDNN version 8906\n",
      "WARNING: All log messages before absl::InitializeLog() is called are written to STDERR\n",
      "I0000 00:00:1701761962.889319    1156 device_compiler.h:186] Compiled cluster using XLA!  This line is logged at most once for the lifetime of the process.\n"
     ]
    },
    {
     "name": "stdout",
     "output_type": "stream",
     "text": [
      "21/21 [==============================] - 1s 9ms/step - loss: 517.7179 - mae: 20.8472 - val_loss: 530.5883 - val_mae: 21.2304\n",
      "Epoch 2/100\n",
      "21/21 [==============================] - 0s 7ms/step - loss: 403.3252 - mae: 18.1305 - val_loss: 371.7231 - val_mae: 17.3841\n",
      "Epoch 3/100\n",
      "21/21 [==============================] - 0s 5ms/step - loss: 232.1929 - mae: 13.0914 - val_loss: 175.3855 - val_mae: 10.7935\n",
      "Epoch 4/100\n",
      "21/21 [==============================] - 0s 6ms/step - loss: 92.3997 - mae: 7.5030 - val_loss: 79.5088 - val_mae: 6.7150\n",
      "Epoch 5/100\n",
      "21/21 [==============================] - 0s 4ms/step - loss: 50.6150 - mae: 5.2379 - val_loss: 49.1226 - val_mae: 5.1089\n",
      "Epoch 6/100\n",
      "21/21 [==============================] - 0s 5ms/step - loss: 34.4203 - mae: 4.1597 - val_loss: 33.6138 - val_mae: 4.1763\n",
      "Epoch 7/100\n",
      "21/21 [==============================] - 0s 5ms/step - loss: 26.7133 - mae: 3.6138 - val_loss: 26.7949 - val_mae: 3.7310\n",
      "Epoch 8/100\n",
      "21/21 [==============================] - 0s 4ms/step - loss: 23.3701 - mae: 3.2969 - val_loss: 24.8209 - val_mae: 3.5551\n",
      "Epoch 9/100\n",
      "21/21 [==============================] - 0s 4ms/step - loss: 20.8070 - mae: 3.1772 - val_loss: 21.4788 - val_mae: 3.4689\n",
      "Epoch 10/100\n",
      "21/21 [==============================] - 0s 5ms/step - loss: 19.4044 - mae: 3.0909 - val_loss: 20.5157 - val_mae: 3.3603\n",
      "Epoch 11/100\n",
      "21/21 [==============================] - 0s 4ms/step - loss: 18.3832 - mae: 2.8986 - val_loss: 20.2741 - val_mae: 3.3305\n",
      "Epoch 12/100\n",
      "21/21 [==============================] - 0s 4ms/step - loss: 16.9300 - mae: 2.8330 - val_loss: 18.6468 - val_mae: 3.2172\n",
      "Epoch 13/100\n",
      "21/21 [==============================] - 0s 4ms/step - loss: 16.1746 - mae: 2.7779 - val_loss: 17.5080 - val_mae: 3.1178\n",
      "Epoch 14/100\n",
      "21/21 [==============================] - 0s 4ms/step - loss: 15.6324 - mae: 2.7303 - val_loss: 17.1237 - val_mae: 3.0881\n",
      "Epoch 15/100\n",
      "21/21 [==============================] - 0s 4ms/step - loss: 14.6139 - mae: 2.6550 - val_loss: 16.5476 - val_mae: 3.0511\n",
      "Epoch 16/100\n",
      "21/21 [==============================] - 0s 4ms/step - loss: 13.9523 - mae: 2.5808 - val_loss: 16.2246 - val_mae: 3.0149\n",
      "Epoch 17/100\n",
      "21/21 [==============================] - 0s 4ms/step - loss: 13.5046 - mae: 2.5388 - val_loss: 15.8537 - val_mae: 2.9719\n",
      "Epoch 18/100\n",
      "21/21 [==============================] - 0s 4ms/step - loss: 12.9929 - mae: 2.5327 - val_loss: 15.6032 - val_mae: 2.9403\n",
      "Epoch 19/100\n",
      "21/21 [==============================] - 0s 4ms/step - loss: 12.5980 - mae: 2.4647 - val_loss: 15.5605 - val_mae: 2.9501\n",
      "Epoch 20/100\n",
      "21/21 [==============================] - 0s 4ms/step - loss: 12.1297 - mae: 2.4269 - val_loss: 15.2341 - val_mae: 2.9031\n",
      "Epoch 21/100\n",
      "21/21 [==============================] - 0s 4ms/step - loss: 11.8790 - mae: 2.3970 - val_loss: 14.9435 - val_mae: 2.8933\n",
      "Epoch 22/100\n",
      "21/21 [==============================] - 0s 4ms/step - loss: 11.5791 - mae: 2.3759 - val_loss: 15.0857 - val_mae: 2.8658\n",
      "Epoch 23/100\n",
      "21/21 [==============================] - 0s 4ms/step - loss: 11.7349 - mae: 2.4770 - val_loss: 15.2432 - val_mae: 2.8226\n",
      "Epoch 24/100\n",
      "21/21 [==============================] - 0s 4ms/step - loss: 11.0825 - mae: 2.3544 - val_loss: 14.7151 - val_mae: 2.8852\n",
      "Epoch 25/100\n",
      "21/21 [==============================] - 0s 4ms/step - loss: 10.9014 - mae: 2.2886 - val_loss: 14.4621 - val_mae: 2.8008\n",
      "Epoch 26/100\n",
      "21/21 [==============================] - 0s 5ms/step - loss: 10.6039 - mae: 2.3117 - val_loss: 14.5069 - val_mae: 2.8000\n",
      "Epoch 27/100\n",
      "21/21 [==============================] - 0s 5ms/step - loss: 10.3260 - mae: 2.2629 - val_loss: 14.5062 - val_mae: 2.7976\n",
      "Epoch 28/100\n",
      "21/21 [==============================] - 0s 5ms/step - loss: 10.2834 - mae: 2.2681 - val_loss: 14.3978 - val_mae: 2.7857\n",
      "Epoch 29/100\n",
      "21/21 [==============================] - 0s 5ms/step - loss: 10.0944 - mae: 2.2180 - val_loss: 14.4176 - val_mae: 2.8189\n",
      "Epoch 30/100\n",
      "21/21 [==============================] - 0s 4ms/step - loss: 10.2480 - mae: 2.2673 - val_loss: 14.1044 - val_mae: 2.7373\n",
      "Epoch 31/100\n",
      "21/21 [==============================] - 0s 4ms/step - loss: 9.8994 - mae: 2.2159 - val_loss: 14.2410 - val_mae: 2.7478\n",
      "Epoch 32/100\n",
      "21/21 [==============================] - 0s 5ms/step - loss: 9.7702 - mae: 2.1708 - val_loss: 14.3669 - val_mae: 2.7720\n",
      "Epoch 33/100\n",
      "21/21 [==============================] - 0s 4ms/step - loss: 9.5924 - mae: 2.1840 - val_loss: 14.5035 - val_mae: 2.7353\n",
      "Epoch 34/100\n",
      "21/21 [==============================] - 0s 4ms/step - loss: 9.5484 - mae: 2.1729 - val_loss: 14.0389 - val_mae: 2.7195\n",
      "Epoch 35/100\n",
      "21/21 [==============================] - 0s 4ms/step - loss: 9.4605 - mae: 2.1882 - val_loss: 14.0708 - val_mae: 2.6941\n",
      "Epoch 36/100\n",
      "21/21 [==============================] - 0s 4ms/step - loss: 9.4782 - mae: 2.1319 - val_loss: 13.9684 - val_mae: 2.6784\n",
      "Epoch 37/100\n",
      "21/21 [==============================] - 0s 5ms/step - loss: 9.5268 - mae: 2.2204 - val_loss: 14.6247 - val_mae: 2.6976\n",
      "Epoch 38/100\n",
      "21/21 [==============================] - 0s 4ms/step - loss: 9.1379 - mae: 2.1458 - val_loss: 14.2556 - val_mae: 2.7219\n",
      "Epoch 39/100\n",
      "21/21 [==============================] - 0s 4ms/step - loss: 9.1943 - mae: 2.0983 - val_loss: 14.1955 - val_mae: 2.7032\n",
      "Epoch 40/100\n",
      "21/21 [==============================] - 0s 4ms/step - loss: 8.8316 - mae: 2.1083 - val_loss: 14.5196 - val_mae: 2.6971\n",
      "Epoch 41/100\n",
      "21/21 [==============================] - 0s 4ms/step - loss: 8.8167 - mae: 2.1089 - val_loss: 14.3863 - val_mae: 2.6804\n",
      "Epoch 42/100\n",
      "21/21 [==============================] - 0s 4ms/step - loss: 8.6952 - mae: 2.0903 - val_loss: 14.3882 - val_mae: 2.7274\n",
      "Epoch 43/100\n",
      "21/21 [==============================] - 0s 4ms/step - loss: 8.6751 - mae: 2.0751 - val_loss: 14.2703 - val_mae: 2.6649\n",
      "Epoch 44/100\n",
      "21/21 [==============================] - 0s 4ms/step - loss: 8.7201 - mae: 2.0540 - val_loss: 14.3324 - val_mae: 2.6860\n",
      "Epoch 45/100\n",
      "21/21 [==============================] - 0s 4ms/step - loss: 8.5894 - mae: 2.0873 - val_loss: 14.1325 - val_mae: 2.7193\n",
      "Epoch 46/100\n",
      "21/21 [==============================] - 0s 4ms/step - loss: 8.5296 - mae: 2.0565 - val_loss: 14.4762 - val_mae: 2.7067\n",
      "Epoch 47/100\n",
      "21/21 [==============================] - 0s 4ms/step - loss: 8.5842 - mae: 2.0528 - val_loss: 14.2233 - val_mae: 2.6434\n",
      "Epoch 48/100\n",
      "21/21 [==============================] - 0s 4ms/step - loss: 8.3329 - mae: 2.0142 - val_loss: 14.2935 - val_mae: 2.6943\n",
      "Epoch 49/100\n",
      "21/21 [==============================] - 0s 5ms/step - loss: 8.1872 - mae: 2.0220 - val_loss: 14.5607 - val_mae: 2.6793\n",
      "Epoch 50/100\n",
      "21/21 [==============================] - 0s 5ms/step - loss: 8.2676 - mae: 2.0102 - val_loss: 14.2465 - val_mae: 2.6565\n",
      "Epoch 51/100\n",
      "21/21 [==============================] - 0s 4ms/step - loss: 7.9306 - mae: 1.9969 - val_loss: 14.6867 - val_mae: 2.7240\n",
      "Epoch 52/100\n",
      "21/21 [==============================] - 0s 4ms/step - loss: 8.0018 - mae: 2.0167 - val_loss: 14.2093 - val_mae: 2.6665\n",
      "Epoch 53/100\n",
      "21/21 [==============================] - 0s 4ms/step - loss: 7.9088 - mae: 1.9680 - val_loss: 14.3706 - val_mae: 2.7038\n",
      "Epoch 54/100\n",
      "21/21 [==============================] - 0s 4ms/step - loss: 7.8601 - mae: 1.9806 - val_loss: 14.5494 - val_mae: 2.6995\n",
      "Epoch 55/100\n",
      "21/21 [==============================] - 0s 4ms/step - loss: 7.5648 - mae: 1.9178 - val_loss: 14.2871 - val_mae: 2.6617\n",
      "Epoch 56/100\n",
      "21/21 [==============================] - 0s 4ms/step - loss: 7.6965 - mae: 1.9315 - val_loss: 14.5359 - val_mae: 2.6697\n",
      "Epoch 57/100\n",
      "21/21 [==============================] - 0s 4ms/step - loss: 7.4449 - mae: 1.9139 - val_loss: 14.2321 - val_mae: 2.6424\n",
      "Epoch 58/100\n",
      "21/21 [==============================] - 0s 4ms/step - loss: 7.5988 - mae: 1.9437 - val_loss: 14.5028 - val_mae: 2.6851\n",
      "Epoch 59/100\n",
      "21/21 [==============================] - 0s 4ms/step - loss: 7.4069 - mae: 1.9008 - val_loss: 14.3324 - val_mae: 2.6760\n",
      "Epoch 60/100\n",
      "21/21 [==============================] - 0s 4ms/step - loss: 7.2708 - mae: 1.8787 - val_loss: 14.3084 - val_mae: 2.6424\n",
      "Epoch 61/100\n",
      "21/21 [==============================] - 0s 4ms/step - loss: 7.4365 - mae: 1.9366 - val_loss: 14.8032 - val_mae: 2.6953\n",
      "Epoch 62/100\n",
      "21/21 [==============================] - 0s 4ms/step - loss: 7.3015 - mae: 1.8542 - val_loss: 14.4812 - val_mae: 2.6611\n",
      "Epoch 63/100\n",
      "21/21 [==============================] - 0s 4ms/step - loss: 7.1812 - mae: 1.8836 - val_loss: 14.6849 - val_mae: 2.6735\n",
      "Epoch 64/100\n",
      "21/21 [==============================] - 0s 5ms/step - loss: 7.0488 - mae: 1.8455 - val_loss: 14.6457 - val_mae: 2.6975\n",
      "Epoch 65/100\n",
      "21/21 [==============================] - 0s 4ms/step - loss: 7.1441 - mae: 1.8700 - val_loss: 15.2896 - val_mae: 2.7363\n",
      "Epoch 66/100\n",
      "21/21 [==============================] - 0s 4ms/step - loss: 7.1211 - mae: 1.8813 - val_loss: 15.1562 - val_mae: 2.7274\n",
      "Epoch 67/100\n",
      "21/21 [==============================] - 0s 4ms/step - loss: 6.9992 - mae: 1.8496 - val_loss: 14.8894 - val_mae: 2.6514\n",
      "Epoch 68/100\n",
      "21/21 [==============================] - 0s 4ms/step - loss: 7.0757 - mae: 1.8441 - val_loss: 15.1393 - val_mae: 2.6586\n",
      "Epoch 69/100\n",
      "21/21 [==============================] - 0s 4ms/step - loss: 6.8198 - mae: 1.8460 - val_loss: 14.7819 - val_mae: 2.6924\n",
      "Epoch 70/100\n",
      "21/21 [==============================] - 0s 5ms/step - loss: 6.6752 - mae: 1.8086 - val_loss: 14.5820 - val_mae: 2.6529\n",
      "Epoch 71/100\n",
      "21/21 [==============================] - 0s 5ms/step - loss: 7.1122 - mae: 1.8666 - val_loss: 15.0791 - val_mae: 2.6941\n",
      "Epoch 72/100\n",
      "21/21 [==============================] - 0s 4ms/step - loss: 6.6643 - mae: 1.7701 - val_loss: 15.0916 - val_mae: 2.6867\n",
      "Epoch 73/100\n",
      "21/21 [==============================] - 0s 4ms/step - loss: 6.5460 - mae: 1.8171 - val_loss: 14.5430 - val_mae: 2.6632\n",
      "Epoch 74/100\n",
      "21/21 [==============================] - 0s 4ms/step - loss: 6.5375 - mae: 1.7629 - val_loss: 15.0742 - val_mae: 2.6345\n",
      "Epoch 75/100\n",
      "21/21 [==============================] - 0s 4ms/step - loss: 6.4482 - mae: 1.7930 - val_loss: 15.0320 - val_mae: 2.6748\n",
      "Epoch 76/100\n",
      "21/21 [==============================] - 0s 4ms/step - loss: 6.2995 - mae: 1.7553 - val_loss: 14.5902 - val_mae: 2.6359\n",
      "Epoch 77/100\n",
      "21/21 [==============================] - 0s 5ms/step - loss: 6.4724 - mae: 1.7763 - val_loss: 15.0221 - val_mae: 2.6466\n",
      "Epoch 78/100\n",
      "21/21 [==============================] - 0s 4ms/step - loss: 6.3332 - mae: 1.7626 - val_loss: 14.5581 - val_mae: 2.6458\n",
      "Epoch 79/100\n",
      "21/21 [==============================] - 0s 4ms/step - loss: 6.6161 - mae: 1.7760 - val_loss: 14.7002 - val_mae: 2.6362\n",
      "Epoch 80/100\n",
      "21/21 [==============================] - 0s 4ms/step - loss: 6.2087 - mae: 1.7346 - val_loss: 14.5249 - val_mae: 2.6651\n",
      "Epoch 81/100\n",
      "21/21 [==============================] - 0s 5ms/step - loss: 6.0722 - mae: 1.7116 - val_loss: 14.6321 - val_mae: 2.6126\n",
      "Epoch 82/100\n",
      "21/21 [==============================] - 0s 6ms/step - loss: 5.9989 - mae: 1.7153 - val_loss: 14.5463 - val_mae: 2.6447\n",
      "Epoch 83/100\n",
      "21/21 [==============================] - 0s 4ms/step - loss: 5.9436 - mae: 1.6998 - val_loss: 14.8204 - val_mae: 2.6086\n",
      "Epoch 84/100\n",
      "21/21 [==============================] - 0s 4ms/step - loss: 5.8560 - mae: 1.6832 - val_loss: 14.8963 - val_mae: 2.7093\n",
      "Epoch 85/100\n",
      "21/21 [==============================] - 0s 4ms/step - loss: 5.8111 - mae: 1.6965 - val_loss: 14.7089 - val_mae: 2.5846\n",
      "Epoch 86/100\n",
      "21/21 [==============================] - 0s 4ms/step - loss: 5.8172 - mae: 1.6831 - val_loss: 15.1371 - val_mae: 2.6284\n",
      "Epoch 87/100\n",
      "21/21 [==============================] - 0s 5ms/step - loss: 5.9745 - mae: 1.7121 - val_loss: 14.9378 - val_mae: 2.6271\n",
      "Epoch 88/100\n",
      "21/21 [==============================] - 0s 5ms/step - loss: 5.9175 - mae: 1.7197 - val_loss: 14.5050 - val_mae: 2.6284\n",
      "Epoch 89/100\n",
      "21/21 [==============================] - 0s 5ms/step - loss: 5.8044 - mae: 1.6944 - val_loss: 15.5265 - val_mae: 2.6243\n",
      "Epoch 90/100\n",
      "21/21 [==============================] - 0s 4ms/step - loss: 5.7842 - mae: 1.6815 - val_loss: 15.5394 - val_mae: 2.6865\n",
      "Epoch 91/100\n",
      "21/21 [==============================] - 0s 4ms/step - loss: 5.6682 - mae: 1.6803 - val_loss: 15.3137 - val_mae: 2.5846\n",
      "Epoch 92/100\n",
      "21/21 [==============================] - 0s 5ms/step - loss: 5.5208 - mae: 1.6612 - val_loss: 15.8219 - val_mae: 2.6487\n",
      "Epoch 93/100\n",
      "21/21 [==============================] - 0s 4ms/step - loss: 5.4723 - mae: 1.6569 - val_loss: 15.2664 - val_mae: 2.6140\n",
      "Epoch 94/100\n",
      "21/21 [==============================] - 0s 4ms/step - loss: 5.4994 - mae: 1.6284 - val_loss: 15.6173 - val_mae: 2.6197\n",
      "Epoch 95/100\n",
      "21/21 [==============================] - 0s 4ms/step - loss: 5.3834 - mae: 1.6413 - val_loss: 15.2633 - val_mae: 2.5968\n",
      "Epoch 96/100\n",
      "21/21 [==============================] - 0s 4ms/step - loss: 5.4286 - mae: 1.6413 - val_loss: 15.8148 - val_mae: 2.6451\n",
      "Epoch 97/100\n",
      "21/21 [==============================] - 0s 4ms/step - loss: 5.2363 - mae: 1.5956 - val_loss: 15.2697 - val_mae: 2.5955\n",
      "Epoch 98/100\n",
      "21/21 [==============================] - 0s 4ms/step - loss: 5.2408 - mae: 1.5980 - val_loss: 15.8116 - val_mae: 2.6130\n",
      "Epoch 99/100\n",
      "21/21 [==============================] - 0s 4ms/step - loss: 5.3286 - mae: 1.6511 - val_loss: 15.0712 - val_mae: 2.6120\n",
      "Epoch 100/100\n",
      "21/21 [==============================] - 0s 4ms/step - loss: 5.1900 - mae: 1.6094 - val_loss: 15.2131 - val_mae: 2.6159\n"
     ]
    }
   ],
   "source": [
    "# 문제 1-3: 예측을 위한 딥러닝 모델을 학습합니다.\n",
    "# [[YOUR CODE]]\n",
    "# 모델 학습 파라미터 설정\n",
    "epochs = 100\n",
    "batch_size = 16\n",
    "validation_split = 0.2\n",
    "\n",
    "# 모델 학습\n",
    "history = model.fit(train_data, train_labels,\n",
    "                    epochs=epochs,\n",
    "                    batch_size=batch_size,\n",
    "                    validation_split=validation_split)\n"
   ]
  },
  {
   "cell_type": "code",
   "execution_count": 7,
   "metadata": {},
   "outputs": [
    {
     "name": "stdout",
     "output_type": "stream",
     "text": [
      "Collecting seaborn\n",
      "  Downloading seaborn-0.13.0-py3-none-any.whl.metadata (5.3 kB)\n",
      "Requirement already satisfied: numpy!=1.24.0,>=1.20 in /usr/local/lib/python3.11/dist-packages (from seaborn) (1.26.2)\n",
      "Requirement already satisfied: pandas>=1.2 in /usr/local/lib/python3.11/dist-packages (from seaborn) (2.1.3)\n",
      "Requirement already satisfied: matplotlib!=3.6.1,>=3.3 in /usr/local/lib/python3.11/dist-packages (from seaborn) (3.8.2)\n",
      "Requirement already satisfied: contourpy>=1.0.1 in /usr/local/lib/python3.11/dist-packages (from matplotlib!=3.6.1,>=3.3->seaborn) (1.2.0)\n",
      "Requirement already satisfied: cycler>=0.10 in /usr/local/lib/python3.11/dist-packages (from matplotlib!=3.6.1,>=3.3->seaborn) (0.12.1)\n",
      "Requirement already satisfied: fonttools>=4.22.0 in /usr/local/lib/python3.11/dist-packages (from matplotlib!=3.6.1,>=3.3->seaborn) (4.45.0)\n",
      "Requirement already satisfied: kiwisolver>=1.3.1 in /usr/local/lib/python3.11/dist-packages (from matplotlib!=3.6.1,>=3.3->seaborn) (1.4.5)\n",
      "Requirement already satisfied: packaging>=20.0 in /usr/local/lib/python3.11/dist-packages (from matplotlib!=3.6.1,>=3.3->seaborn) (23.2)\n",
      "Requirement already satisfied: pillow>=8 in /usr/local/lib/python3.11/dist-packages (from matplotlib!=3.6.1,>=3.3->seaborn) (10.1.0)\n",
      "Requirement already satisfied: pyparsing>=2.3.1 in /usr/lib/python3/dist-packages (from matplotlib!=3.6.1,>=3.3->seaborn) (2.4.7)\n",
      "Requirement already satisfied: python-dateutil>=2.7 in /usr/local/lib/python3.11/dist-packages (from matplotlib!=3.6.1,>=3.3->seaborn) (2.8.2)\n",
      "Requirement already satisfied: pytz>=2020.1 in /usr/local/lib/python3.11/dist-packages (from pandas>=1.2->seaborn) (2023.3.post1)\n",
      "Requirement already satisfied: tzdata>=2022.1 in /usr/local/lib/python3.11/dist-packages (from pandas>=1.2->seaborn) (2023.3)\n",
      "Requirement already satisfied: six>=1.5 in /usr/lib/python3/dist-packages (from python-dateutil>=2.7->matplotlib!=3.6.1,>=3.3->seaborn) (1.16.0)\n",
      "Downloading seaborn-0.13.0-py3-none-any.whl (294 kB)\n",
      "\u001b[2K   \u001b[90m━━━━━━━━━━━━━━━━━━━━━━━━━━━━━━━━━━━━━━━━\u001b[0m \u001b[32m294.6/294.6 kB\u001b[0m \u001b[31m7.4 MB/s\u001b[0m eta \u001b[36m0:00:00\u001b[0ma \u001b[36m0:00:01\u001b[0m\n",
      "\u001b[?25hInstalling collected packages: seaborn\n",
      "Successfully installed seaborn-0.13.0\n",
      "\u001b[33mWARNING: Running pip as the 'root' user can result in broken permissions and conflicting behaviour with the system package manager. It is recommended to use a virtual environment instead: https://pip.pypa.io/warnings/venv\u001b[0m\u001b[33m\n",
      "\u001b[0mNote: you may need to restart the kernel to use updated packages.\n"
     ]
    }
   ],
   "source": [
    "%pip install seaborn"
   ]
  },
  {
   "cell_type": "code",
   "execution_count": 9,
   "metadata": {},
   "outputs": [
    {
     "name": "stdout",
     "output_type": "stream",
     "text": [
      "['Solarize_Light2', '_classic_test_patch', '_mpl-gallery', '_mpl-gallery-nogrid', 'bmh', 'classic', 'dark_background', 'fast', 'fivethirtyeight', 'ggplot', 'grayscale', 'seaborn-v0_8', 'seaborn-v0_8-bright', 'seaborn-v0_8-colorblind', 'seaborn-v0_8-dark', 'seaborn-v0_8-dark-palette', 'seaborn-v0_8-darkgrid', 'seaborn-v0_8-deep', 'seaborn-v0_8-muted', 'seaborn-v0_8-notebook', 'seaborn-v0_8-paper', 'seaborn-v0_8-pastel', 'seaborn-v0_8-poster', 'seaborn-v0_8-talk', 'seaborn-v0_8-ticks', 'seaborn-v0_8-white', 'seaborn-v0_8-whitegrid', 'tableau-colorblind10']\n"
     ]
    }
   ],
   "source": [
    "import matplotlib.pyplot as plt\n",
    "print(plt.style.available)"
   ]
  },
  {
   "cell_type": "code",
   "execution_count": 10,
   "metadata": {},
   "outputs": [
    {
     "data": {
      "image/png": "[encoded data removed]",
      "text/plain": [
       "<Figure size 1200x500 with 2 Axes>"
      ]
     },
     "metadata": {},
     "output_type": "display_data"
    }
   ],
   "source": [
    "# 모델 학습 히스토리에서 loss, val_loss, mae, val_mae를 차트로 보여줍니다.\n",
    "plt.style.use('seaborn-v0_8-white')\n",
    "\n",
    "history_dict = history.history\n",
    "\n",
    "loss = history_dict['loss']\n",
    "val_loss = history_dict['val_loss']\n",
    "\n",
    "epochs = range(1, len(loss) + 1)\n",
    "fig = plt.figure(figsize=(12, 5))\n",
    "\n",
    "ax1 = fig.add_subplot(1, 2, 1)\n",
    "ax1.plot(epochs, loss, 'b-', label='train_loss')\n",
    "ax1.plot(epochs, val_loss, 'r-', label='val_loss')\n",
    "ax1.set_title('Train and Validation Loss')\n",
    "ax1.set_xlabel('Epochs')\n",
    "ax1.set_ylabel('Loss')\n",
    "ax1.grid()\n",
    "ax1.legend()\n",
    "\n",
    "mae = history_dict['mae']\n",
    "val_mae = history_dict['val_mae']\n",
    "\n",
    "ax2 = fig.add_subplot(1, 2, 2)\n",
    "ax2.plot(epochs, mae, 'b-', label='train_mae')\n",
    "ax2.plot(epochs, val_mae, 'r-', label='val_mae')\n",
    "ax2.set_title('Train and Validation MAE')\n",
    "ax2.set_xlabel('Epochs')\n",
    "ax2.set_ylabel('Accuracy')\n",
    "ax2.grid()\n",
    "ax2.legend()\n",
    "\n",
    "plt.show()"
   ]
  },
  {
   "cell_type": "code",
   "execution_count": 11,
   "metadata": {},
   "outputs": [
    {
     "name": "stdout",
     "output_type": "stream",
     "text": [
      "4/4 [==============================] - 0s 5ms/step - loss: 23.5626 - mae: 3.0168\n",
      "Test Loss (MSE): 23.563\n",
      "Test MAE: 3.017\n"
     ]
    }
   ],
   "source": [
    "# 문제 1-4: 테스트 데이터셋을 이용해 모델을 평가합니다.\n",
    "# [[YOUR CODE]]\n",
    "\n",
    "# 테스트 데이터셋을 이용한 모델 평가\n",
    "test_loss, test_mae = model.evaluate(test_data, test_labels)\n",
    "\n",
    "# 평가 결과 출력\n",
    "print(f\"Test Loss (MSE): {test_loss:.3f}\")\n",
    "print(f\"Test MAE: {test_mae:.3f}\")\n"
   ]
  },
  {
   "cell_type": "code",
   "execution_count": null,
   "metadata": {},
   "outputs": [],
   "source": []
  }
 ],
 "metadata": {
  "kernelspec": {
   "display_name": "Python 3",
   "language": "python",
   "name": "python3"
  },
  "language_info": {
   "codemirror_mode": {
    "name": "ipython",
    "version": 3
   },
   "file_extension": ".py",
   "mimetype": "text/x-python",
   "name": "python",
   "nbconvert_exporter": "python",
   "pygments_lexer": "ipython3",
   "version": "3.11.0"
  }
 },
 "nbformat": 4,
 "nbformat_minor": 2
}
