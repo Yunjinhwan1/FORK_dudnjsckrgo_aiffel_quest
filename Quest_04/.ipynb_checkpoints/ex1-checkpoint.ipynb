{
 "cells": [
  {
   "cell_type": "code",
   "execution_count": 177,
   "id": "299dc5b8",
   "metadata": {},
   "outputs": [
    {
     "data": {
      "text/html": [
       "<div>\n",
       "<style scoped>\n",
       "    .dataframe tbody tr th:only-of-type {\n",
       "        vertical-align: middle;\n",
       "    }\n",
       "\n",
       "    .dataframe tbody tr th {\n",
       "        vertical-align: top;\n",
       "    }\n",
       "\n",
       "    .dataframe thead th {\n",
       "        text-align: right;\n",
       "    }\n",
       "</style>\n",
       "<table border=\"1\" class=\"dataframe\">\n",
       "  <thead>\n",
       "    <tr style=\"text-align: right;\">\n",
       "      <th></th>\n",
       "      <th>id</th>\n",
       "      <th>document</th>\n",
       "      <th>label</th>\n",
       "    </tr>\n",
       "  </thead>\n",
       "  <tbody>\n",
       "    <tr>\n",
       "      <th>0</th>\n",
       "      <td>9976970</td>\n",
       "      <td>아 더빙.. 진짜 짜증나네요 목소리</td>\n",
       "      <td>0</td>\n",
       "    </tr>\n",
       "    <tr>\n",
       "      <th>1</th>\n",
       "      <td>3819312</td>\n",
       "      <td>흠...포스터보고 초딩영화줄....오버연기조차 가볍지 않구나</td>\n",
       "      <td>1</td>\n",
       "    </tr>\n",
       "    <tr>\n",
       "      <th>2</th>\n",
       "      <td>10265843</td>\n",
       "      <td>너무재밓었다그래서보는것을추천한다</td>\n",
       "      <td>0</td>\n",
       "    </tr>\n",
       "    <tr>\n",
       "      <th>3</th>\n",
       "      <td>9045019</td>\n",
       "      <td>교도소 이야기구먼 ..솔직히 재미는 없다..평점 조정</td>\n",
       "      <td>0</td>\n",
       "    </tr>\n",
       "    <tr>\n",
       "      <th>4</th>\n",
       "      <td>6483659</td>\n",
       "      <td>사이몬페그의 익살스런 연기가 돋보였던 영화!스파이더맨에서 늙어보이기만 했던 커스틴 ...</td>\n",
       "      <td>1</td>\n",
       "    </tr>\n",
       "  </tbody>\n",
       "</table>\n",
       "</div>"
      ],
      "text/plain": [
       "         id                                           document  label\n",
       "0   9976970                                아 더빙.. 진짜 짜증나네요 목소리      0\n",
       "1   3819312                  흠...포스터보고 초딩영화줄....오버연기조차 가볍지 않구나      1\n",
       "2  10265843                                  너무재밓었다그래서보는것을추천한다      0\n",
       "3   9045019                      교도소 이야기구먼 ..솔직히 재미는 없다..평점 조정      0\n",
       "4   6483659  사이몬페그의 익살스런 연기가 돋보였던 영화!스파이더맨에서 늙어보이기만 했던 커스틴 ...      1"
      ]
     },
     "execution_count": 177,
     "metadata": {},
     "output_type": "execute_result"
    }
   ],
   "source": [
    "import pandas as pd\n",
    "\n",
    "# 데이터를 읽어봅시다. \n",
    "train_data = pd.read_table('~/aiffel/sentiment_classification/data/ratings_train.txt')\n",
    "test_data = pd.read_table('~/aiffel/sentiment_classification/data/ratings_test.txt')\n",
    "\n",
    "train_data.head()"
   ]
  },
  {
   "cell_type": "code",
   "execution_count": 178,
   "id": "7afd1525",
   "metadata": {},
   "outputs": [],
   "source": [
    "from konlpy.tag import Mecab\n",
    "import numpy as np\n",
    "from collections import Counter\n",
    "\n",
    "tokenizer = Mecab()\n",
    "stopwords = ['의', '가', '이', '은', '들', '는', '좀', '잘', '걍', '과', '도', '를', '으로', '자', '에', '와', '한', '하다']\n",
    "\n",
    "def load_data(train_data, test_data, num_words=10000):\n",
    "    # 데이터 중복 제거 및 결측치 제거\n",
    "    train_data.drop_duplicates(subset=['document'], inplace=True)\n",
    "    train_data.dropna(subset=['document'], inplace=True)\n",
    "    test_data.drop_duplicates(subset=['document'], inplace=True)\n",
    "    test_data.dropna(subset=['document'], inplace=True)\n",
    "\n",
    "    X_train = []\n",
    "    for sentence in train_data['document']:\n",
    "        temp_X = tokenizer.morphs(sentence)  # 토큰화\n",
    "        temp_X = [word for word in temp_X if word not in stopwords]  # 불용어 제거\n",
    "        X_train.append(temp_X)\n",
    "\n",
    "    X_test = []\n",
    "    for sentence in test_data['document']:\n",
    "        temp_X = tokenizer.morphs(sentence)  # 토큰화\n",
    "        temp_X = [word for word in temp_X if word not in stopwords]  # 불용어 제거\n",
    "        X_test.append(temp_X)\n",
    "\n",
    "    # 단어 빈도수 기준으로 상위 num_words-4개의 단어를 추출\n",
    "    words = np.concatenate(X_train).tolist()\n",
    "    counter = Counter(words)\n",
    "    counter = counter.most_common(num_words - 4)\n",
    "    vocab = ['<PAD>', '<BOS>', '<UNK>', '<UNUSED>'] + [key for key, _ in counter]\n",
    "    word_to_index = {word: index for index, word in enumerate(vocab)}\n",
    "\n",
    "    # 단어를 인덱스로 변환\n",
    "    def wordlist_to_indexlist(wordlist):\n",
    "        return [word_to_index[word] if word in word_to_index else word_to_index['<UNK>'] for word in wordlist]\n",
    "\n",
    "    X_train = list(map(wordlist_to_indexlist, X_train))\n",
    "    X_test = list(map(wordlist_to_indexlist, X_test))\n",
    "\n",
    "    return X_train, np.array(list(train_data['label'])), X_test, np.array(list(test_data['label'])), word_to_index\n",
    "\n",
    "# 데이터 불러오기 및 전처리\n",
    "X_train, y_train, X_test, y_test, word_to_index = load_data(train_data, test_data)\n"
   ]
  },
  {
   "cell_type": "code",
   "execution_count": 179,
   "id": "46bbc26e",
   "metadata": {},
   "outputs": [],
   "source": [
    "index_to_word = {index:word for word, index in word_to_index.items()}"
   ]
  },
  {
   "cell_type": "code",
   "execution_count": 180,
   "id": "cbfe7446",
   "metadata": {},
   "outputs": [],
   "source": [
    "# 문장 1개를 활용할 딕셔너리와 함께 주면, 단어 인덱스 리스트 벡터로 변환해 주는 함수입니다. \n",
    "# 단, 모든 문장은 <BOS>로 시작하는 것으로 합니다. \n",
    "def get_encoded_sentence(sentence, word_to_index):\n",
    "    return [word_to_index['<BOS>']]+[word_to_index[word] if word in word_to_index else word_to_index['<UNK>'] for word in sentence.split()]\n",
    "\n",
    "# 여러 개의 문장 리스트를 한꺼번에 단어 인덱스 리스트 벡터로 encode해 주는 함수입니다. \n",
    "def get_encoded_sentences(sentences, word_to_index):\n",
    "    return [get_encoded_sentence(sentence, word_to_index) for sentence in sentences]\n",
    "\n",
    "# 숫자 벡터로 encode된 문장을 원래대로 decode하는 함수입니다. \n",
    "def get_decoded_sentence(encoded_sentence, index_to_word):\n",
    "    return ' '.join(index_to_word[index] if index in index_to_word else '<UNK>' for index in encoded_sentence[1:])  #[1:]를 통해 <BOS>를 제외\n",
    "\n",
    "# 여러 개의 숫자 벡터로 encode된 문장을 한꺼번에 원래대로 decode하는 함수입니다. \n",
    "def get_decoded_sentences(encoded_sentences, index_to_word):\n",
    "    return [get_decoded_sentence(encoded_sentence, index_to_word) for encoded_sentence in encoded_sentences]"
   ]
  },
  {
   "cell_type": "markdown",
   "id": "c8f259a7",
   "metadata": {},
   "source": [
    "3) 모델 구성을 위한 데이터 분석 및 가공"
   ]
  },
  {
   "cell_type": "code",
   "execution_count": 181,
   "id": "fbbdafd8",
   "metadata": {},
   "outputs": [
    {
     "name": "stdout",
     "output_type": "stream",
     "text": [
      "문장길이 평균 :  15.96940191154864\n",
      "문장길이 최대 :  116\n",
      "문장길이 표준편차 :  12.843571191092\n",
      "pad_sequences maxlen :  41\n",
      "전체 문장의 0.9342988343341575\n",
      "(146182, 41)\n"
     ]
    }
   ],
   "source": [
    "#데이터셋 내 문장 길이 분포\n",
    "import tensorflow as tf\n",
    "\n",
    "total_data_text = list(X_train) + list(X_test)\n",
    "# 텍스트데이터 문장길이의 리스트를 생성한 후\n",
    "num_tokens = [len(tokens) for tokens in total_data_text]\n",
    "num_tokens = np.array(num_tokens)\n",
    "# 문장길이의 평균값, 최대값, 표준편차를 계산해 본다. \n",
    "print('문장길이 평균 : ', np.mean(num_tokens))\n",
    "print('문장길이 최대 : ', np.max(num_tokens))\n",
    "print('문장길이 표준편차 : ', np.std(num_tokens))\n",
    "\n",
    "#적절한 최대 문장 길이 지정\n",
    "# 예를들어, 최대 길이를 (평균 + 2*표준편차)로 한다면,  \n",
    "max_tokens = np.mean(num_tokens) + 2 * np.std(num_tokens)\n",
    "maxlen = int(max_tokens)\n",
    "print('pad_sequences maxlen : ', maxlen)\n",
    "print(f'전체 문장의 {np.sum(num_tokens < max_tokens) / len(num_tokens)}')\n",
    "\n",
    "\n",
    "#keras.preprocessing.sequence.pad_sequences 을 활용한 패딩 추가\n",
    "x_train = tf.keras.preprocessing.sequence.pad_sequences(X_train,\n",
    "                                                        value=word_to_index[\"<PAD>\"],\n",
    "                                                        padding='pre', # 혹은 'pre'\n",
    "                                                        maxlen=maxlen)\n",
    "\n",
    "x_test = tf.keras.preprocessing.sequence.pad_sequences(X_test,\n",
    "                                                       value=word_to_index[\"<PAD>\"],\n",
    "                                                       padding='pre', # 혹은 'pre'\n",
    "                                                       maxlen=maxlen)\n",
    "\n",
    "print(x_train.shape)\n"
   ]
  },
  {
   "cell_type": "markdown",
   "id": "9b4b8363",
   "metadata": {},
   "source": [
    "4) 모델 구성 및 validation set 구성"
   ]
  },
  {
   "cell_type": "code",
   "execution_count": 182,
   "id": "84520dfb",
   "metadata": {},
   "outputs": [
    {
     "name": "stdout",
     "output_type": "stream",
     "text": [
      "Model: \"sequential_31\"\n",
      "_________________________________________________________________\n",
      "Layer (type)                 Output Shape              Param #   \n",
      "=================================================================\n",
      "embedding_31 (Embedding)     (None, None, 300)         3000000   \n",
      "_________________________________________________________________\n",
      "lstm_9 (LSTM)                (None, 8)                 9888      \n",
      "_________________________________________________________________\n",
      "dense_58 (Dense)             (None, 8)                 72        \n",
      "_________________________________________________________________\n",
      "dense_59 (Dense)             (None, 1)                 9         \n",
      "=================================================================\n",
      "Total params: 3,009,969\n",
      "Trainable params: 3,009,969\n",
      "Non-trainable params: 0\n",
      "_________________________________________________________________\n"
     ]
    }
   ],
   "source": [
    "# validation set 10000건 분리\n",
    "X_valid = x_train[:10000]   \n",
    "y_valid = y_train[:10000]\n",
    "\n",
    "# validation set을 제외한 나머지 15000건\n",
    "X_train_2 = x_train[10000:]  \n",
    "y_train_2 = y_train[10000:]\n",
    "vocab_size = 10000  # 어휘 사전의 크기입니다(10개의 단어)\n",
    "word_vector_dim = 300  # 단어 하나를 표현하는 임베딩 벡터의 차원수입니다. \n",
    "\n",
    "model1 = tf.keras.Sequential()\n",
    "model1.add(tf.keras.layers.Embedding(vocab_size, word_vector_dim, input_shape=(None,)))\n",
    "model1.add(tf.keras.layers.LSTM(8))   # 가장 널리 쓰이는 RNN인 LSTM 레이어를 사용하였습니다. 이때 LSTM state 벡터의 차원수는 8로 하였습니다. (변경 가능)\n",
    "model1.add(tf.keras.layers.Dense(8, activation='relu'))\n",
    "model1.add(tf.keras.layers.Dense(1, activation='sigmoid'))  # 최종 출력은 긍정/부정을 나타내는 1dim 입니다.\n",
    "\n",
    "model1.summary()"
   ]
  },
  {
   "cell_type": "code",
   "execution_count": 183,
   "id": "ccaa19d6",
   "metadata": {},
   "outputs": [
    {
     "name": "stdout",
     "output_type": "stream",
     "text": [
      "Model: \"sequential_32\"\n",
      "_________________________________________________________________\n",
      "Layer (type)                 Output Shape              Param #   \n",
      "=================================================================\n",
      "embedding_32 (Embedding)     (None, None, 300)         3000000   \n",
      "_________________________________________________________________\n",
      "conv1d_30 (Conv1D)           (None, None, 16)          33616     \n",
      "_________________________________________________________________\n",
      "max_pooling1d_16 (MaxPooling (None, None, 16)          0         \n",
      "_________________________________________________________________\n",
      "conv1d_31 (Conv1D)           (None, None, 16)          1808      \n",
      "_________________________________________________________________\n",
      "global_max_pooling1d_20 (Glo (None, 16)                0         \n",
      "_________________________________________________________________\n",
      "dense_60 (Dense)             (None, 8)                 136       \n",
      "_________________________________________________________________\n",
      "dense_61 (Dense)             (None, 1)                 9         \n",
      "=================================================================\n",
      "Total params: 3,035,569\n",
      "Trainable params: 3,035,569\n",
      "Non-trainable params: 0\n",
      "_________________________________________________________________\n"
     ]
    }
   ],
   "source": [
    "\n",
    "model2 = tf.keras.Sequential()\n",
    "model2.add(tf.keras.layers.Embedding(vocab_size, word_vector_dim, input_shape=(None,)))\n",
    "model2.add(tf.keras.layers.Conv1D(16, 7, activation='relu'))\n",
    "model2.add(tf.keras.layers.MaxPooling1D(5))\n",
    "model2.add(tf.keras.layers.Conv1D(16, 7, activation='relu'))\n",
    "model2.add(tf.keras.layers.GlobalMaxPooling1D())\n",
    "model2.add(tf.keras.layers.Dense(8, activation='relu'))\n",
    "model2.add(tf.keras.layers.Dense(1, activation='sigmoid'))  # 최종 출력은 긍정/부정을 나타내는 1dim 입니다.\n",
    "\n",
    "model2.summary()"
   ]
  },
  {
   "cell_type": "code",
   "execution_count": 184,
   "id": "81472c3a",
   "metadata": {},
   "outputs": [
    {
     "name": "stdout",
     "output_type": "stream",
     "text": [
      "Model: \"sequential_33\"\n",
      "_________________________________________________________________\n",
      "Layer (type)                 Output Shape              Param #   \n",
      "=================================================================\n",
      "embedding_33 (Embedding)     (None, None, 300)         3000000   \n",
      "_________________________________________________________________\n",
      "global_max_pooling1d_21 (Glo (None, 300)               0         \n",
      "_________________________________________________________________\n",
      "dense_62 (Dense)             (None, 8)                 2408      \n",
      "_________________________________________________________________\n",
      "dense_63 (Dense)             (None, 1)                 9         \n",
      "=================================================================\n",
      "Total params: 3,002,417\n",
      "Trainable params: 3,002,417\n",
      "Non-trainable params: 0\n",
      "_________________________________________________________________\n"
     ]
    }
   ],
   "source": [
    "\n",
    "model3 = tf.keras.Sequential()\n",
    "model3.add(tf.keras.layers.Embedding(vocab_size, word_vector_dim, input_shape=(None,)))\n",
    "model3.add(tf.keras.layers.GlobalMaxPooling1D())\n",
    "model3.add(tf.keras.layers.Dense(8, activation='relu'))\n",
    "model3.add(tf.keras.layers.Dense(1, activation='sigmoid'))  # 최종 출력은 긍정/부정을 나타내는 1dim 입니다.\n",
    "\n",
    "model3.summary()"
   ]
  },
  {
   "cell_type": "code",
   "execution_count": 185,
   "id": "adb5588a",
   "metadata": {},
   "outputs": [],
   "source": [
    "#모델은 3가지 이상 다양하게 구성하여 실험해 보세요"
   ]
  },
  {
   "cell_type": "code",
   "execution_count": 186,
   "id": "9462f2de",
   "metadata": {},
   "outputs": [
    {
     "name": "stdout",
     "output_type": "stream",
     "text": [
      "(136182, 41)\n",
      "(136182,)\n"
     ]
    },
    {
     "data": {
      "text/plain": [
       "numpy.ndarray"
      ]
     },
     "execution_count": 186,
     "metadata": {},
     "output_type": "execute_result"
    }
   ],
   "source": [
    "print(X_train_2.shape)\n",
    "print(y_train_2.shape)\n",
    "type(X_valid)"
   ]
  },
  {
   "cell_type": "markdown",
   "id": "eb62e9cb",
   "metadata": {},
   "source": [
    "5) 모델 훈련 개시"
   ]
  },
  {
   "cell_type": "code",
   "execution_count": 187,
   "id": "db9260d4",
   "metadata": {},
   "outputs": [
    {
     "name": "stdout",
     "output_type": "stream",
     "text": [
      "Epoch 1/20\n",
      "266/266 [==============================] - 4s 9ms/step - loss: 0.4670 - accuracy: 0.7912 - val_loss: 0.3501 - val_accuracy: 0.8488\n",
      "Epoch 2/20\n",
      "266/266 [==============================] - 2s 7ms/step - loss: 0.3224 - accuracy: 0.8659 - val_loss: 0.3271 - val_accuracy: 0.8610\n",
      "Epoch 3/20\n",
      "266/266 [==============================] - 2s 7ms/step - loss: 0.2849 - accuracy: 0.8825 - val_loss: 0.3313 - val_accuracy: 0.8576\n",
      "Epoch 4/20\n",
      "266/266 [==============================] - 2s 7ms/step - loss: 0.2573 - accuracy: 0.8946 - val_loss: 0.3369 - val_accuracy: 0.8528\n",
      "Epoch 5/20\n",
      "266/266 [==============================] - 2s 7ms/step - loss: 0.2310 - accuracy: 0.9068 - val_loss: 0.3491 - val_accuracy: 0.8559\n",
      "Epoch 6/20\n",
      "266/266 [==============================] - 2s 7ms/step - loss: 0.2077 - accuracy: 0.9190 - val_loss: 0.3601 - val_accuracy: 0.8518\n",
      "Epoch 7/20\n",
      "266/266 [==============================] - 2s 7ms/step - loss: 0.1875 - accuracy: 0.9284 - val_loss: 0.3844 - val_accuracy: 0.8497\n",
      "Epoch 8/20\n",
      "266/266 [==============================] - 2s 7ms/step - loss: 0.1704 - accuracy: 0.9368 - val_loss: 0.4085 - val_accuracy: 0.8486\n",
      "Epoch 9/20\n",
      "266/266 [==============================] - 2s 7ms/step - loss: 0.1544 - accuracy: 0.9440 - val_loss: 0.4390 - val_accuracy: 0.8486\n",
      "Epoch 10/20\n",
      "266/266 [==============================] - 2s 7ms/step - loss: 0.1409 - accuracy: 0.9496 - val_loss: 0.4576 - val_accuracy: 0.8439\n",
      "Epoch 11/20\n",
      "266/266 [==============================] - 2s 7ms/step - loss: 0.1298 - accuracy: 0.9544 - val_loss: 0.4833 - val_accuracy: 0.8451\n",
      "Epoch 12/20\n",
      "266/266 [==============================] - 2s 7ms/step - loss: 0.1188 - accuracy: 0.9593 - val_loss: 0.5197 - val_accuracy: 0.8455\n",
      "Epoch 13/20\n",
      "266/266 [==============================] - 2s 7ms/step - loss: 0.1110 - accuracy: 0.9622 - val_loss: 0.5415 - val_accuracy: 0.8454\n",
      "Epoch 14/20\n",
      "266/266 [==============================] - 2s 7ms/step - loss: 0.1033 - accuracy: 0.9651 - val_loss: 0.5646 - val_accuracy: 0.8460\n",
      "Epoch 15/20\n",
      "266/266 [==============================] - 2s 7ms/step - loss: 0.0963 - accuracy: 0.9677 - val_loss: 0.5712 - val_accuracy: 0.8411\n",
      "Epoch 16/20\n",
      "266/266 [==============================] - 2s 7ms/step - loss: 0.0905 - accuracy: 0.9701 - val_loss: 0.5977 - val_accuracy: 0.8439\n",
      "Epoch 17/20\n",
      "266/266 [==============================] - 2s 7ms/step - loss: 0.0853 - accuracy: 0.9722 - val_loss: 0.6195 - val_accuracy: 0.8404\n",
      "Epoch 18/20\n",
      "266/266 [==============================] - 2s 7ms/step - loss: 0.0812 - accuracy: 0.9731 - val_loss: 0.6341 - val_accuracy: 0.8385\n",
      "Epoch 19/20\n",
      "266/266 [==============================] - 2s 7ms/step - loss: 0.0767 - accuracy: 0.9749 - val_loss: 0.6790 - val_accuracy: 0.8388\n",
      "Epoch 20/20\n",
      "266/266 [==============================] - 2s 7ms/step - loss: 0.0720 - accuracy: 0.9765 - val_loss: 0.6870 - val_accuracy: 0.8382\n",
      "1537/1537 - 3s - loss: 0.7010 - accuracy: 0.8338\n",
      "[0.7010143995285034, 0.833797812461853]\n"
     ]
    }
   ],
   "source": [
    "epochs=20\n",
    "# 모델 컴파일 및 학습\n",
    "model1.compile(optimizer='adam',\n",
    "              loss='binary_crossentropy',\n",
    "              metrics=['accuracy'])\n",
    "history1 = model1.fit(X_train_2,\n",
    "                    y_train_2,\n",
    "                    epochs=epochs,\n",
    "                    batch_size=512,\n",
    "                    validation_data=(X_valid, y_valid),\n",
    "                    verbose=1)\n",
    "results1 = model1.evaluate(x_test,  y_test, verbose=2)\n",
    "\n",
    "print(results1)"
   ]
  },
  {
   "cell_type": "code",
   "execution_count": 188,
   "id": "8548e563",
   "metadata": {},
   "outputs": [
    {
     "name": "stdout",
     "output_type": "stream",
     "text": [
      "Epoch 1/20\n",
      "266/266 [==============================] - 3s 8ms/step - loss: 0.4271 - accuracy: 0.8003 - val_loss: 0.3301 - val_accuracy: 0.8550\n",
      "Epoch 2/20\n",
      "266/266 [==============================] - 2s 8ms/step - loss: 0.2951 - accuracy: 0.8769 - val_loss: 0.3166 - val_accuracy: 0.8622\n",
      "Epoch 3/20\n",
      "266/266 [==============================] - 2s 8ms/step - loss: 0.2370 - accuracy: 0.9054 - val_loss: 0.3318 - val_accuracy: 0.8619\n",
      "Epoch 4/20\n",
      "266/266 [==============================] - 2s 8ms/step - loss: 0.1705 - accuracy: 0.9365 - val_loss: 0.3788 - val_accuracy: 0.8537\n",
      "Epoch 5/20\n",
      "266/266 [==============================] - 2s 8ms/step - loss: 0.1113 - accuracy: 0.9624 - val_loss: 0.4507 - val_accuracy: 0.8482\n",
      "Epoch 6/20\n",
      "266/266 [==============================] - 2s 8ms/step - loss: 0.0728 - accuracy: 0.9763 - val_loss: 0.5311 - val_accuracy: 0.8433\n",
      "Epoch 7/20\n",
      "266/266 [==============================] - 2s 8ms/step - loss: 0.0506 - accuracy: 0.9845 - val_loss: 0.6091 - val_accuracy: 0.8443\n",
      "Epoch 8/20\n",
      "266/266 [==============================] - 2s 8ms/step - loss: 0.0372 - accuracy: 0.9885 - val_loss: 0.6753 - val_accuracy: 0.8432\n",
      "Epoch 9/20\n",
      "266/266 [==============================] - 2s 8ms/step - loss: 0.0301 - accuracy: 0.9904 - val_loss: 0.7104 - val_accuracy: 0.8404\n",
      "Epoch 10/20\n",
      "266/266 [==============================] - 2s 8ms/step - loss: 0.0250 - accuracy: 0.9917 - val_loss: 0.8202 - val_accuracy: 0.8382\n",
      "Epoch 11/20\n",
      "266/266 [==============================] - 2s 8ms/step - loss: 0.0240 - accuracy: 0.9919 - val_loss: 0.9047 - val_accuracy: 0.8351\n",
      "Epoch 12/20\n",
      "266/266 [==============================] - 2s 8ms/step - loss: 0.0285 - accuracy: 0.9901 - val_loss: 0.8682 - val_accuracy: 0.8358\n",
      "Epoch 13/20\n",
      "266/266 [==============================] - 2s 8ms/step - loss: 0.0290 - accuracy: 0.9897 - val_loss: 0.9150 - val_accuracy: 0.8337\n",
      "Epoch 14/20\n",
      "266/266 [==============================] - 2s 8ms/step - loss: 0.0254 - accuracy: 0.9910 - val_loss: 0.9349 - val_accuracy: 0.8369\n",
      "Epoch 15/20\n",
      "266/266 [==============================] - 2s 8ms/step - loss: 0.0183 - accuracy: 0.9936 - val_loss: 0.9859 - val_accuracy: 0.8355\n",
      "Epoch 16/20\n",
      "266/266 [==============================] - 2s 8ms/step - loss: 0.0142 - accuracy: 0.9952 - val_loss: 1.0482 - val_accuracy: 0.8334\n",
      "Epoch 17/20\n",
      "266/266 [==============================] - 2s 8ms/step - loss: 0.0130 - accuracy: 0.9955 - val_loss: 1.0967 - val_accuracy: 0.8324\n",
      "Epoch 18/20\n",
      "266/266 [==============================] - 2s 8ms/step - loss: 0.0118 - accuracy: 0.9958 - val_loss: 1.1539 - val_accuracy: 0.8319\n",
      "Epoch 19/20\n",
      "266/266 [==============================] - 2s 8ms/step - loss: 0.0110 - accuracy: 0.9959 - val_loss: 1.2684 - val_accuracy: 0.8328\n",
      "Epoch 20/20\n",
      "266/266 [==============================] - 2s 8ms/step - loss: 0.0120 - accuracy: 0.9955 - val_loss: 1.2778 - val_accuracy: 0.8306\n",
      "1537/1537 - 3s - loss: 1.2840 - accuracy: 0.8285\n",
      "[1.2839717864990234, 0.8284679651260376]\n"
     ]
    }
   ],
   "source": [
    "model2.compile(optimizer='adam',\n",
    "              loss='binary_crossentropy',\n",
    "              metrics=['accuracy'])\n",
    "history2 = model2.fit(X_train_2,\n",
    "                    y_train_2,\n",
    "                    epochs=epochs,\n",
    "                    batch_size=512,\n",
    "                    validation_data=(X_valid, y_valid),\n",
    "                    verbose=1)\n",
    "                \n",
    "results2 = model2.evaluate(x_test,  y_test, verbose=2)\n",
    "\n",
    "print(results2)"
   ]
  },
  {
   "cell_type": "code",
   "execution_count": 189,
   "id": "db4517f0",
   "metadata": {},
   "outputs": [
    {
     "name": "stdout",
     "output_type": "stream",
     "text": [
      "Epoch 1/20\n",
      "266/266 [==============================] - 2s 6ms/step - loss: 0.4378 - accuracy: 0.8186 - val_loss: 0.3347 - val_accuracy: 0.8550\n",
      "Epoch 2/20\n",
      "266/266 [==============================] - 1s 5ms/step - loss: 0.3027 - accuracy: 0.8723 - val_loss: 0.3274 - val_accuracy: 0.8565\n",
      "Epoch 3/20\n",
      "266/266 [==============================] - 1s 5ms/step - loss: 0.2557 - accuracy: 0.8967 - val_loss: 0.3344 - val_accuracy: 0.8572\n",
      "Epoch 4/20\n",
      "266/266 [==============================] - 1s 5ms/step - loss: 0.2120 - accuracy: 0.9188 - val_loss: 0.3538 - val_accuracy: 0.8551\n",
      "Epoch 5/20\n",
      "266/266 [==============================] - 1s 5ms/step - loss: 0.1658 - accuracy: 0.9413 - val_loss: 0.3779 - val_accuracy: 0.8521\n",
      "Epoch 6/20\n",
      "266/266 [==============================] - 1s 5ms/step - loss: 0.1190 - accuracy: 0.9622 - val_loss: 0.4162 - val_accuracy: 0.8465\n",
      "Epoch 7/20\n",
      "266/266 [==============================] - 1s 5ms/step - loss: 0.0793 - accuracy: 0.9776 - val_loss: 0.4593 - val_accuracy: 0.8472\n",
      "Epoch 8/20\n",
      "266/266 [==============================] - 1s 5ms/step - loss: 0.0516 - accuracy: 0.9872 - val_loss: 0.5041 - val_accuracy: 0.8434\n",
      "Epoch 9/20\n",
      "266/266 [==============================] - 1s 5ms/step - loss: 0.0341 - accuracy: 0.9919 - val_loss: 0.5522 - val_accuracy: 0.8452\n",
      "Epoch 10/20\n",
      "266/266 [==============================] - 1s 5ms/step - loss: 0.0240 - accuracy: 0.9941 - val_loss: 0.5845 - val_accuracy: 0.8415\n",
      "Epoch 11/20\n",
      "266/266 [==============================] - 1s 5ms/step - loss: 0.0176 - accuracy: 0.9954 - val_loss: 0.6187 - val_accuracy: 0.8432\n",
      "Epoch 12/20\n",
      "266/266 [==============================] - 1s 5ms/step - loss: 0.0140 - accuracy: 0.9960 - val_loss: 0.6496 - val_accuracy: 0.8456\n",
      "Epoch 13/20\n",
      "266/266 [==============================] - 1s 5ms/step - loss: 0.0119 - accuracy: 0.9962 - val_loss: 0.6761 - val_accuracy: 0.8412\n",
      "Epoch 14/20\n",
      "266/266 [==============================] - 1s 5ms/step - loss: 0.0103 - accuracy: 0.9966 - val_loss: 0.7017 - val_accuracy: 0.8431\n",
      "Epoch 15/20\n",
      "266/266 [==============================] - 1s 5ms/step - loss: 0.0091 - accuracy: 0.9968 - val_loss: 0.7221 - val_accuracy: 0.8431\n",
      "Epoch 16/20\n",
      "266/266 [==============================] - 1s 5ms/step - loss: 0.0084 - accuracy: 0.9968 - val_loss: 0.7432 - val_accuracy: 0.8429\n",
      "Epoch 17/20\n",
      "266/266 [==============================] - 1s 5ms/step - loss: 0.0080 - accuracy: 0.9968 - val_loss: 0.7592 - val_accuracy: 0.8452\n",
      "Epoch 18/20\n",
      "266/266 [==============================] - 1s 5ms/step - loss: 0.0073 - accuracy: 0.9968 - val_loss: 0.7842 - val_accuracy: 0.8416\n",
      "Epoch 19/20\n",
      "266/266 [==============================] - 1s 5ms/step - loss: 0.0075 - accuracy: 0.9969 - val_loss: 0.7962 - val_accuracy: 0.8452\n",
      "Epoch 20/20\n",
      "266/266 [==============================] - 1s 5ms/step - loss: 0.0068 - accuracy: 0.9970 - val_loss: 0.8064 - val_accuracy: 0.8416\n",
      "1537/1537 - 2s - loss: 0.8318 - accuracy: 0.8387\n",
      "[0.8317722082138062, 0.8386598229408264]\n"
     ]
    }
   ],
   "source": [
    "model3.compile(optimizer='adam',\n",
    "              loss='binary_crossentropy',\n",
    "              metrics=['accuracy'])\n",
    "history3 = model3.fit(X_train_2,\n",
    "                    y_train_2,\n",
    "                    epochs=epochs,\n",
    "                    batch_size=512,\n",
    "                    validation_data=(X_valid, y_valid),\n",
    "                    verbose=1)\n",
    "results2 = model3.evaluate(x_test,  y_test, verbose=2)\n",
    "\n",
    "print(results2)"
   ]
  },
  {
   "cell_type": "markdown",
   "id": "8fc0bc39",
   "metadata": {},
   "source": [
    "6) Loss, Accuracy 그래프 시각화"
   ]
  },
  {
   "cell_type": "code",
   "execution_count": 190,
   "id": "875ba2d4",
   "metadata": {},
   "outputs": [
    {
     "name": "stdout",
     "output_type": "stream",
     "text": [
      "dict_keys(['loss', 'accuracy', 'val_loss', 'val_accuracy'])\n"
     ]
    },
    {
     "data": {
      "image/png": "[encoded data removed]",
      "text/plain": [
       "<Figure size 432x288 with 1 Axes>"
      ]
     },
     "metadata": {
      "needs_background": "light"
     },
     "output_type": "display_data"
    }
   ],
   "source": [
    "history_dict1 = history1.history\n",
    "print(history_dict1.keys()) # epoch에 따른 그래프를 그려볼 수 있는 항목\n",
    "\n",
    "import matplotlib.pyplot as plt\n",
    "\n",
    "acc1 = history_dict1['accuracy']\n",
    "val_acc1 = history_dict1['val_accuracy']\n",
    "loss1 = history_dict1['loss']\n",
    "val_loss1 = history_dict1['val_loss']\n",
    "\n",
    "epochs = range(1, len(acc1) + 1)\n",
    "\n",
    "# \"bo\"는 \"파란색 점\"입니다\n",
    "plt.plot(epochs, loss1, 'bo', label='Training loss')\n",
    "# b는 \"파란 실선\"입니다\n",
    "plt.plot(epochs, val_loss1, 'b', label='Validation loss')\n",
    "plt.title('Training and validation loss')\n",
    "plt.xlabel('Epochs')\n",
    "plt.ylabel('Loss')\n",
    "plt.legend()\n",
    "\n",
    "plt.show()"
   ]
  },
  {
   "cell_type": "code",
   "execution_count": 191,
   "id": "4cda5393",
   "metadata": {},
   "outputs": [
    {
     "data": {
      "image/png": "[encoded data removed]",
      "text/plain": [
       "<Figure size 432x288 with 1 Axes>"
      ]
     },
     "metadata": {
      "needs_background": "light"
     },
     "output_type": "display_data"
    }
   ],
   "source": [
    "plt.clf()   # 그림을 초기화합니다\n",
    "\n",
    "plt.plot(epochs, acc1, 'bo', label='Training acc')\n",
    "plt.plot(epochs, val_acc1, 'b', label='Validation acc')\n",
    "plt.title('Training and validation accuracy')\n",
    "plt.xlabel('Epochs')\n",
    "plt.ylabel('Accuracy')\n",
    "plt.legend()\n",
    "\n",
    "plt.show()"
   ]
  },
  {
   "cell_type": "code",
   "execution_count": 192,
   "id": "276962de",
   "metadata": {},
   "outputs": [
    {
     "name": "stdout",
     "output_type": "stream",
     "text": [
      "dict_keys(['loss', 'accuracy', 'val_loss', 'val_accuracy'])\n"
     ]
    },
    {
     "data": {
      "image/png": "[encoded data removed]",
      "text/plain": [
       "<Figure size 432x288 with 1 Axes>"
      ]
     },
     "metadata": {
      "needs_background": "light"
     },
     "output_type": "display_data"
    }
   ],
   "source": [
    "history_dict2 = history2.history\n",
    "print(history_dict2.keys()) # epoch에 따른 그래프를 그려볼 수 있는 항목\n",
    "\n",
    "import matplotlib.pyplot as plt\n",
    "\n",
    "acc2 = history_dict2['accuracy']\n",
    "val_acc2 = history_dict2['val_accuracy']\n",
    "loss2 = history_dict2['loss']\n",
    "val_loss2 = history_dict2['val_loss']\n",
    "\n",
    "epochs = range(1, len(acc2) + 1)\n",
    "\n",
    "# \"bo\"는 \"파란색 점\"입니다\n",
    "plt.plot(epochs, loss2, 'bo', label='Training loss')\n",
    "# b는 \"파란 실선\"입니다\n",
    "plt.plot(epochs, val_loss2, 'b', label='Validation loss')\n",
    "plt.title('Training and validation loss')\n",
    "plt.xlabel('Epochs')\n",
    "plt.ylabel('Loss')\n",
    "plt.legend()\n",
    "\n",
    "plt.show()"
   ]
  },
  {
   "cell_type": "code",
   "execution_count": 193,
   "id": "986eb7f4",
   "metadata": {},
   "outputs": [
    {
     "data": {
      "image/png": "[encoded data removed]",
      "text/plain": [
       "<Figure size 432x288 with 1 Axes>"
      ]
     },
     "metadata": {
      "needs_background": "light"
     },
     "output_type": "display_data"
    }
   ],
   "source": [
    "plt.clf()   # 그림을 초기화합니다\n",
    "\n",
    "plt.plot(epochs, acc2, 'bo', label='Training acc')\n",
    "plt.plot(epochs, val_acc2, 'b', label='Validation acc')\n",
    "plt.title('Training and validation accuracy')\n",
    "plt.xlabel('Epochs')\n",
    "plt.ylabel('Accuracy')\n",
    "plt.legend()\n",
    "\n",
    "plt.show()"
   ]
  },
  {
   "cell_type": "code",
   "execution_count": 194,
   "id": "c3bf67ed",
   "metadata": {},
   "outputs": [
    {
     "name": "stdout",
     "output_type": "stream",
     "text": [
      "dict_keys(['loss', 'accuracy', 'val_loss', 'val_accuracy'])\n"
     ]
    },
    {
     "data": {
      "image/png": "[encoded data removed]",
      "text/plain": [
       "<Figure size 432x288 with 1 Axes>"
      ]
     },
     "metadata": {
      "needs_background": "light"
     },
     "output_type": "display_data"
    }
   ],
   "source": [
    "history_dict3 = history3.history\n",
    "print(history_dict3.keys()) # epoch에 따른 그래프를 그려볼 수 있는 항목\n",
    "\n",
    "import matplotlib.pyplot as plt\n",
    "\n",
    "acc3 = history_dict3['accuracy']\n",
    "val_acc3 = history_dict3['val_accuracy']\n",
    "loss3 = history_dict3['loss']\n",
    "val_loss3 = history_dict3['val_loss']\n",
    "\n",
    "epochs = range(1, len(acc3) + 1)\n",
    "\n",
    "# \"bo\"는 \"파란색 점\"입니다\n",
    "plt.plot(epochs, loss3, 'bo', label='Training loss')\n",
    "# b는 \"파란 실선\"입니다\n",
    "plt.plot(epochs, val_loss3, 'b', label='Validation loss')\n",
    "plt.title('Training and validation loss')\n",
    "plt.xlabel('Epochs')\n",
    "plt.ylabel('Loss')\n",
    "plt.legend()\n",
    "\n",
    "plt.show()"
   ]
  },
  {
   "cell_type": "code",
   "execution_count": 195,
   "id": "53bb0c77",
   "metadata": {},
   "outputs": [
    {
     "data": {
      "image/png": "[encoded data removed]",
      "text/plain": [
       "<Figure size 432x288 with 1 Axes>"
      ]
     },
     "metadata": {
      "needs_background": "light"
     },
     "output_type": "display_data"
    }
   ],
   "source": [
    "plt.clf()   # 그림을 초기화합니다\n",
    "\n",
    "plt.plot(epochs, acc3, 'bo', label='Training acc')\n",
    "plt.plot(epochs, val_acc3, 'b', label='Validation acc')\n",
    "plt.title('Training and validation accuracy')\n",
    "plt.xlabel('Epochs')\n",
    "plt.ylabel('Accuracy')\n",
    "plt.legend()\n",
    "\n",
    "plt.show()"
   ]
  },
  {
   "cell_type": "markdown",
   "id": "621dd8fe",
   "metadata": {},
   "source": [
    "7) 학습된 Embedding 레이어 분석"
   ]
  },
  {
   "cell_type": "code",
   "execution_count": 196,
   "id": "9ef4857c",
   "metadata": {},
   "outputs": [
    {
     "name": "stdout",
     "output_type": "stream",
     "text": [
      "(10000, 100)\n"
     ]
    }
   ],
   "source": [
    "embedding_layer = model.layers[0]\n",
    "weights = embedding_layer.get_weights()[0]\n",
    "print(weights.shape) "
   ]
  },
  {
   "cell_type": "code",
   "execution_count": 200,
   "id": "21f8c218",
   "metadata": {},
   "outputs": [],
   "source": [
    "word2vec_file_path ='data/word2vec2.txt'\n",
    "f = open(word2vec_file_path, 'w')\n",
    "f.write('{} {}\\n'.format(vocab_size-4, 100))  # 몇개의 벡터를 얼마 사이즈로 기재할지 타이틀을 씁니다.\n",
    "\n",
    "# 단어 개수(에서 특수문자 4개는 제외하고)만큼의 워드 벡터를 파일에 기록합니다. \n",
    "vectors = model.get_weights()[0]\n",
    "for i in range(4,vocab_size):\n",
    "    f.write('{} {}\\n'.format(index_to_word[i], ' '.join(map(str, list(vectors[i, :])))))\n",
    "f.close()"
   ]
  },
  {
   "cell_type": "code",
   "execution_count": 201,
   "id": "26553860",
   "metadata": {},
   "outputs": [
    {
     "data": {
      "text/plain": [
       "array([ 3.1185179 , -0.7897887 , -3.429503  ,  1.0245363 ,  0.69797945,\n",
       "       -1.7423939 ,  0.55831397, -0.86868364, -1.4039075 ,  1.8569776 ,\n",
       "        2.4776218 , -2.9449854 , -2.5385158 , -0.8125033 , -0.27710518,\n",
       "        0.4172074 ,  0.8676308 , -1.7079923 ,  1.9952675 , -5.203318  ,\n",
       "       -4.8844113 ,  0.9173273 ,  0.0845535 , -2.846133  ,  0.81805336,\n",
       "        0.09438389, -0.94349957,  1.5429662 ,  0.7794967 , -3.8949363 ,\n",
       "       -3.538957  , -3.2931783 , -1.1928738 , -0.8272354 , -1.0816947 ,\n",
       "        3.3674817 ,  0.3926242 ,  1.1441135 , -1.3497304 ,  2.5048034 ,\n",
       "       -1.4301232 , -1.0483596 ,  0.5938833 ,  3.0020716 , -1.2303194 ,\n",
       "        3.3046815 ,  3.892304  ,  0.02204968,  3.1321611 , -0.9596684 ,\n",
       "        0.79321164, -1.4108964 ,  2.876802  , -3.7465308 , -3.1735244 ,\n",
       "       -5.631592  ,  0.61660844, -0.8769476 ,  2.2164643 ,  2.4816353 ,\n",
       "        3.0318785 , -2.1598048 ,  3.3063896 , -5.383245  ,  1.7435949 ,\n",
       "       -0.23696189, -1.8963544 , -1.4845746 , -2.1397297 , -1.2816871 ,\n",
       "        4.7936015 , -2.0107489 , -0.2876941 ,  1.8240982 , -4.3528137 ,\n",
       "       -1.2394379 , -0.262492  , -4.365547  ,  0.16970658, -2.115756  ,\n",
       "        3.2615795 , -0.20287827,  2.549425  ,  1.9057386 , -0.40783322,\n",
       "       -3.294723  ,  2.2559297 ,  3.4426565 ,  1.4209018 , -4.3364334 ,\n",
       "       -3.5912004 , -6.5580297 , -2.2868853 , -3.444931  ,  0.15262681,\n",
       "        1.1850113 ,  1.9463465 , -0.243681  ,  5.51277   , -3.953464  ],\n",
       "      dtype=float32)"
      ]
     },
     "execution_count": 201,
     "metadata": {},
     "output_type": "execute_result"
    }
   ],
   "source": [
    "from gensim.models.keyedvectors import Word2VecKeyedVectors\n",
    "\n",
    "word_vectors = Word2VecKeyedVectors.load_word2vec_format(word2vec_file_path, binary=False)\n",
    "vector = word_vectors['사랑']\n",
    "vector"
   ]
  },
  {
   "cell_type": "code",
   "execution_count": 202,
   "id": "2aeaffe8",
   "metadata": {},
   "outputs": [
    {
     "data": {
      "text/plain": [
       "[('이별', 0.767483651638031),\n",
       " ('행복', 0.748371958732605),\n",
       " ('슬픔', 0.7443023324012756),\n",
       " ('애정', 0.7244206666946411),\n",
       " ('그리움', 0.7086510062217712),\n",
       " ('추억', 0.7083327174186707),\n",
       " ('마음', 0.7074383497238159),\n",
       " ('꿈', 0.7009231448173523),\n",
       " ('유혹', 0.6940398216247559),\n",
       " ('엄마', 0.6916143894195557)]"
      ]
     },
     "execution_count": 202,
     "metadata": {},
     "output_type": "execute_result"
    }
   ],
   "source": [
    "word_vectors.similar_by_word(\"사랑\")"
   ]
  },
  {
   "cell_type": "code",
   "execution_count": 203,
   "id": "4565e428",
   "metadata": {},
   "outputs": [],
   "source": [
    "from gensim.models.keyedvectors import Word2VecKeyedVectors\n",
    "\n",
    "# Word2Vec 모델 불러오기\n",
    "word_vectors = Word2VecKeyedVectors.load('data/word2vec_ko.model')\n"
   ]
  },
  {
   "cell_type": "code",
   "execution_count": 204,
   "id": "6e317c01",
   "metadata": {},
   "outputs": [
    {
     "name": "stdout",
     "output_type": "stream",
     "text": [
      "이별: 0.7626414895057678\n",
      "행복: 0.7550068497657776\n",
      "슬픔: 0.7381505966186523\n",
      "유혹: 0.7238055467605591\n",
      "그리움: 0.7167419195175171\n",
      "추억: 0.7143999338150024\n",
      "꿈: 0.7089294195175171\n",
      "애정: 0.7066588997840881\n",
      "포옹: 0.7034594416618347\n",
      "마음: 0.6972615718841553\n"
     ]
    }
   ],
   "source": [
    "# 'love'와 유사한 단어 찾기\n",
    "target_word = '사랑'\n",
    "similar_words = word_vectors.wv.most_similar(target_word, topn=10)\n",
    "\n",
    "# 유사한 단어 출력\n",
    "for word, score in similar_words:\n",
    "    print(f\"{word}: {score}\")\n"
   ]
  },
  {
   "cell_type": "markdown",
   "id": "991d20d8",
   "metadata": {},
   "source": [
    "8) 한국어 Word2Vec 임베딩 활용하여 성능 개선"
   ]
  },
  {
   "cell_type": "markdown",
   "id": "2f00205c",
   "metadata": {},
   "source": [
    "한국어 Word2Vec은 /data 폴더 안에 있는 word2vec_ko.model을 활용하세요.\n",
    "\n",
    "한국어 Word2Vec을 활용할 때는 load_word2vec_format() 형태가 아닌 load() 형태로 모델을 불러와주세요. 또한 모델을 활용할 때에는 아래 예시와 같이 .wv를 붙여서 활용합니다. 좀더 자세한 활용법에 대해선 다음 링크들을 참조해주세요. 참고 링크1, 참고 링크2"
   ]
  },
  {
   "cell_type": "code",
   "execution_count": 206,
   "id": "e528425a",
   "metadata": {},
   "outputs": [
    {
     "name": "stdout",
     "output_type": "stream",
     "text": [
      "Model: \"sequential_35\"\n",
      "_________________________________________________________________\n",
      "Layer (type)                 Output Shape              Param #   \n",
      "=================================================================\n",
      "embedding_35 (Embedding)     (None, 41, 100)           1000000   \n",
      "_________________________________________________________________\n",
      "conv1d_32 (Conv1D)           (None, 35, 128)           89728     \n",
      "_________________________________________________________________\n",
      "global_max_pooling1d_23 (Glo (None, 128)               0         \n",
      "_________________________________________________________________\n",
      "dense_64 (Dense)             (None, 128)               16512     \n",
      "_________________________________________________________________\n",
      "dropout_3 (Dropout)          (None, 128)               0         \n",
      "_________________________________________________________________\n",
      "dense_65 (Dense)             (None, 1)                 129       \n",
      "=================================================================\n",
      "Total params: 1,106,369\n",
      "Trainable params: 1,106,369\n",
      "Non-trainable params: 0\n",
      "_________________________________________________________________\n",
      "Epoch 1/20\n",
      "266/266 [==============================] - 3s 8ms/step - loss: 0.5993 - accuracy: 0.6966 - val_loss: 0.4746 - val_accuracy: 0.7755\n",
      "Epoch 2/20\n",
      "266/266 [==============================] - 2s 7ms/step - loss: 0.4496 - accuracy: 0.7917 - val_loss: 0.4121 - val_accuracy: 0.8088\n",
      "Epoch 3/20\n",
      "266/266 [==============================] - 2s 7ms/step - loss: 0.3830 - accuracy: 0.8298 - val_loss: 0.3805 - val_accuracy: 0.8248\n",
      "Epoch 4/20\n",
      "266/266 [==============================] - 2s 7ms/step - loss: 0.3364 - accuracy: 0.8534 - val_loss: 0.3612 - val_accuracy: 0.8369\n",
      "Epoch 5/20\n",
      "266/266 [==============================] - 2s 7ms/step - loss: 0.3024 - accuracy: 0.8706 - val_loss: 0.3769 - val_accuracy: 0.8341\n",
      "Epoch 6/20\n",
      "266/266 [==============================] - 2s 7ms/step - loss: 0.2757 - accuracy: 0.8836 - val_loss: 0.3697 - val_accuracy: 0.8442\n",
      "Epoch 7/20\n",
      "266/266 [==============================] - 2s 7ms/step - loss: 0.2465 - accuracy: 0.8979 - val_loss: 0.3689 - val_accuracy: 0.8425\n",
      "Epoch 8/20\n",
      "266/266 [==============================] - 2s 7ms/step - loss: 0.2235 - accuracy: 0.9075 - val_loss: 0.3963 - val_accuracy: 0.8435\n",
      "Epoch 9/20\n",
      "266/266 [==============================] - 2s 7ms/step - loss: 0.2026 - accuracy: 0.9171 - val_loss: 0.4208 - val_accuracy: 0.8415\n",
      "Epoch 10/20\n",
      "266/266 [==============================] - 2s 7ms/step - loss: 0.1810 - accuracy: 0.9262 - val_loss: 0.4521 - val_accuracy: 0.8431\n",
      "Epoch 11/20\n",
      "266/266 [==============================] - 2s 7ms/step - loss: 0.1606 - accuracy: 0.9352 - val_loss: 0.4628 - val_accuracy: 0.8411\n",
      "Epoch 12/20\n",
      "266/266 [==============================] - 2s 7ms/step - loss: 0.1443 - accuracy: 0.9416 - val_loss: 0.5044 - val_accuracy: 0.8411\n",
      "Epoch 13/20\n",
      "266/266 [==============================] - 2s 7ms/step - loss: 0.1317 - accuracy: 0.9464 - val_loss: 0.5874 - val_accuracy: 0.8418\n",
      "Epoch 14/20\n",
      "266/266 [==============================] - 2s 7ms/step - loss: 0.1161 - accuracy: 0.9528 - val_loss: 0.5959 - val_accuracy: 0.8392\n",
      "Epoch 15/20\n",
      "266/266 [==============================] - 2s 7ms/step - loss: 0.1062 - accuracy: 0.9573 - val_loss: 0.6427 - val_accuracy: 0.8403\n",
      "Epoch 16/20\n",
      "266/266 [==============================] - 2s 7ms/step - loss: 0.0991 - accuracy: 0.9604 - val_loss: 0.6029 - val_accuracy: 0.8373\n",
      "Epoch 17/20\n",
      "266/266 [==============================] - 2s 7ms/step - loss: 0.0895 - accuracy: 0.9644 - val_loss: 0.7893 - val_accuracy: 0.8359\n",
      "Epoch 18/20\n",
      "266/266 [==============================] - 2s 7ms/step - loss: 0.0800 - accuracy: 0.9679 - val_loss: 0.7587 - val_accuracy: 0.8384\n",
      "Epoch 19/20\n",
      "266/266 [==============================] - 2s 7ms/step - loss: 0.0811 - accuracy: 0.9676 - val_loss: 0.7911 - val_accuracy: 0.8365\n",
      "Epoch 20/20\n",
      "266/266 [==============================] - 2s 7ms/step - loss: 0.0685 - accuracy: 0.9727 - val_loss: 0.8557 - val_accuracy: 0.8351\n",
      "1537/1537 - 2s - loss: 0.9005 - accuracy: 0.8301\n",
      "[0.9005021452903748, 0.8300954103469849]\n"
     ]
    }
   ],
   "source": [
    "\n",
    "import numpy as np\n",
    "import tensorflow as tf\n",
    "from tensorflow.keras.initializers import Constant\n",
    "\n",
    "# 하이퍼파라미터 설정\n",
    "epochs = 20\n",
    "vocab_size = 10000\n",
    "word_vector_dim = 100\n",
    "embedding_matrix = np.random.rand(vocab_size,word_vector_dim)\n",
    "\n",
    "# embedding_matrix에 Word2Vec 워드 벡터를 단어 하나씩마다 카피\n",
    "for i in range(4, vocab_size):\n",
    "    word = index_to_word[i]\n",
    "    if word in word_vectors.wv:\n",
    "        embedding_matrix[i] = word_vectors.wv[word]\n",
    "\n",
    "# 모델 생성\n",
    "model = tf.keras.Sequential()\n",
    "model.add(tf.keras.layers.Embedding(vocab_size,\n",
    "                                    word_vector_dim,\n",
    "                                    embeddings_initializer=Constant(embedding_matrix),\n",
    "                                    input_length=maxlen,\n",
    "                                    trainable=True))  # trainable을 True로 주면 Fine-tuning\n",
    "model.add(tf.keras.layers.Conv1D(128, 7, activation='relu'))\n",
    "model.add(tf.keras.layers.GlobalMaxPooling1D())\n",
    "model.add(tf.keras.layers.Dense(128, activation='relu'))\n",
    "model.add(tf.keras.layers.Dropout(0.5))\n",
    "model.add(tf.keras.layers.Dense(1, activation='sigmoid'))\n",
    "\n",
    "model.summary()\n",
    "\n",
    "# 모델 컴파일 및 학습\n",
    "model.compile(optimizer='adam',\n",
    "              loss='binary_crossentropy',\n",
    "              metrics=['accuracy'])\n",
    "history4 = model.fit(X_train_2,\n",
    "                    y_train_2,\n",
    "                    epochs=epochs,\n",
    "                    batch_size=512,\n",
    "                    validation_data=(X_valid, y_valid),\n",
    "                    verbose=1)\n",
    "# 테스트셋을 통한 모델 평가\n",
    "results = model.evaluate(x_test,  y_test, verbose=2)\n",
    "\n",
    "print(results)"
   ]
  },
  {
   "cell_type": "code",
   "execution_count": 207,
   "id": "3e127b3f",
   "metadata": {},
   "outputs": [
    {
     "name": "stdout",
     "output_type": "stream",
     "text": [
      "dict_keys(['loss', 'accuracy', 'val_loss', 'val_accuracy'])\n"
     ]
    },
    {
     "data": {
      "image/png": "[encoded data removed]",
      "text/plain": [
       "<Figure size 432x288 with 1 Axes>"
      ]
     },
     "metadata": {
      "needs_background": "light"
     },
     "output_type": "display_data"
    }
   ],
   "source": [
    "history_dict4 = history4.history\n",
    "print(history_dict4.keys()) # epoch에 따른 그래프를 그려볼 수 있는 항목\n",
    "\n",
    "import matplotlib.pyplot as plt\n",
    "\n",
    "acc4 = history_dict4['accuracy']\n",
    "val_acc4 = history_dict4['val_accuracy']\n",
    "loss4 = history_dict4['loss']\n",
    "val_loss4 = history_dict4['val_loss']\n",
    "\n",
    "epochs = range(1, len(acc4) + 1)\n",
    "\n",
    "# \"bo\"는 \"파란색 점\"입니다\n",
    "plt.plot(epochs, loss4, 'bo', label='Training loss')\n",
    "# b는 \"파란 실선\"입니다\n",
    "plt.plot(epochs, val_loss4, 'b', label='Validation loss')\n",
    "plt.title('Training and validation loss')\n",
    "plt.xlabel('Epochs')\n",
    "plt.ylabel('Loss')\n",
    "plt.legend()\n",
    "\n",
    "plt.show()\n"
   ]
  },
  {
   "cell_type": "code",
   "execution_count": 208,
   "id": "2224a532",
   "metadata": {},
   "outputs": [
    {
     "data": {
      "image/png": "[encoded data removed]",
      "text/plain": [
       "<Figure size 432x288 with 1 Axes>"
      ]
     },
     "metadata": {
      "needs_background": "light"
     },
     "output_type": "display_data"
    }
   ],
   "source": [
    "\n",
    "plt.clf()   # 그림을 초기화합니다\n",
    "\n",
    "plt.plot(epochs, acc4, 'bo', label='Training acc')\n",
    "plt.plot(epochs, val_acc4, 'b', label='Validation acc')\n",
    "plt.title('Training and validation accuracy')\n",
    "plt.xlabel('Epochs')\n",
    "plt.ylabel('Accuracy')\n",
    "plt.legend()\n",
    "\n",
    "plt.show()\n",
    "\n"
   ]
  },
  {
   "cell_type": "markdown",
   "id": "6223e10d",
   "metadata": {},
   "source": [
    "## 회고\n",
    "### 배운점\n",
    "자연어를 임베딩 하는 방법과 감정 분석 처럼 many to one task를 수행하는 법을 배웠습니다. \n",
    "\n",
    "### 아쉬운점\n",
    "이번에도 점수를 도달 시키지 못한것이 아쉽다. \n",
    "\n",
    "### 느낀점\n",
    "성능개선을 시키기위해 아직 노하우를 장착하지 못한것 같다. 성능 개선을 시키기위해 체크리스트라도 써야될것 같다.\n"
   ]
  },
  {
   "cell_type": "code",
   "execution_count": null,
   "id": "0b6dd3dd",
   "metadata": {},
   "outputs": [],
   "source": []
  }
 ],
 "metadata": {
  "kernelspec": {
   "display_name": "Python 3 (ipykernel)",
   "language": "python",
   "name": "python3"
  },
  "language_info": {
   "codemirror_mode": {
    "name": "ipython",
    "version": 3
   },
   "file_extension": ".py",
   "mimetype": "text/x-python",
   "name": "python",
   "nbconvert_exporter": "python",
   "pygments_lexer": "ipython3",
   "version": "3.9.7"
  }
 },
 "nbformat": 4,
 "nbformat_minor": 5
}
